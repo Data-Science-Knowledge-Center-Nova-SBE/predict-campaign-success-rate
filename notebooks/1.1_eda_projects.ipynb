{
 "cells": [
  {
   "cell_type": "raw",
   "metadata": {},
   "source": [
    ".container { width:100% !important; }"
   ]
  },
  {
   "cell_type": "markdown",
   "metadata": {},
   "source": [
    "# PPL \n",
    "\n",
    "# Exploratory Data Analysis - Projects\n",
    "\n",
    "<br>\n",
    "<hr>\n",
    "\n",
    "<h1 style=\"color:red\"> Index</h1>\n",
    "\n",
    "<br>\n",
    "\n",
    "### 0. Setup\n",
    "\n",
    "### 1. Clean\n",
    "\n",
    "### 2. Exploration\n",
    "\n",
    "### 3. Visualization\n",
    "\n",
    "\n",
    "<hr>\n",
    "<br><br><br>"
   ]
  },
  {
   "cell_type": "markdown",
   "metadata": {},
   "source": [
    "# 0. Setup"
   ]
  },
  {
   "cell_type": "code",
   "execution_count": 1,
   "metadata": {
    "pycharm": {
     "is_executing": false
    }
   },
   "outputs": [
    {
     "data": {
      "text/html": [
       "<style>.container { width:100% !important; }</style>"
      ],
      "text/plain": [
       "<IPython.core.display.HTML object>"
      ]
     },
     "metadata": {},
     "output_type": "display_data"
    }
   ],
   "source": [
    "# set root folder (needed for imports)\n",
    "import os\n",
    "while not os.getcwd().endswith(\"ppl-model\"):\n",
    "    os.chdir(\"..\")\n",
    "\n",
    "# ignore warning on jupyter\n",
    "import warnings\n",
    "warnings.filterwarnings('ignore')\n",
    "\n",
    "\n",
    "# larger page width\n",
    "from IPython.core.display import display, HTML\n",
    "display(HTML(\"<style>.container { width:100% !important; }</style>\"))\n",
    "\n",
    "\n",
    "# detect changes on folders\n",
    "%load_ext autoreload\n",
    "%autoreload 2\n",
    "\n",
    "\n",
    "# my imports\n",
    "import settings\n",
    "from src.data_curation.clean import clean\n",
    "from src.data_curation.clean import get_stop_words\n",
    "\n",
    "from dskc import dskc_clean\n",
    "from dskc import dskc_exploration \n",
    "from dskc import dskc_graphs\n",
    "\n",
    "\n",
    "# third party imports\n",
    "import pandas as pd"
   ]
  },
  {
   "cell_type": "markdown",
   "metadata": {},
   "source": [
    "<br><br>\n",
    "\n",
    "# 1. Clean \n"
   ]
  },
  {
   "cell_type": "code",
   "execution_count": 3,
   "metadata": {
    "pycharm": {
     "name": "#%%\n"
    },
    "scrolled": true
   },
   "outputs": [
    {
     "data": {
      "text/html": [
       "<div>\n",
       "<style scoped>\n",
       "    .dataframe tbody tr th:only-of-type {\n",
       "        vertical-align: middle;\n",
       "    }\n",
       "\n",
       "    .dataframe tbody tr th {\n",
       "        vertical-align: top;\n",
       "    }\n",
       "\n",
       "    .dataframe thead th {\n",
       "        text-align: right;\n",
       "    }\n",
       "</style>\n",
       "<table border=\"1\" class=\"dataframe\">\n",
       "  <thead>\n",
       "    <tr style=\"text-align: right;\">\n",
       "      <th></th>\n",
       "      <th>PID</th>\n",
       "      <th>STATUS</th>\n",
       "      <th>TITLE</th>\n",
       "      <th>CAT</th>\n",
       "      <th>CHANNEL</th>\n",
       "      <th>START</th>\n",
       "      <th>END</th>\n",
       "      <th>TARGET</th>\n",
       "      <th>RAISED</th>\n",
       "      <th>BACKERS</th>\n",
       "      <th>LOCATION</th>\n",
       "      <th>UID</th>\n",
       "      <th>COMMENTS</th>\n",
       "      <th>IMAGES</th>\n",
       "      <th>VIEWS</th>\n",
       "      <th>FACEBOOK</th>\n",
       "      <th>URL</th>\n",
       "      <th>VIDEO_URL</th>\n",
       "      <th>PRJ_SUMMARY</th>\n",
       "      <th>UNCOND_CHANNEL</th>\n",
       "    </tr>\n",
       "    <tr>\n",
       "      <th>Unnamed: 0</th>\n",
       "      <th></th>\n",
       "      <th></th>\n",
       "      <th></th>\n",
       "      <th></th>\n",
       "      <th></th>\n",
       "      <th></th>\n",
       "      <th></th>\n",
       "      <th></th>\n",
       "      <th></th>\n",
       "      <th></th>\n",
       "      <th></th>\n",
       "      <th></th>\n",
       "      <th></th>\n",
       "      <th></th>\n",
       "      <th></th>\n",
       "      <th></th>\n",
       "      <th></th>\n",
       "      <th></th>\n",
       "      <th></th>\n",
       "      <th></th>\n",
       "    </tr>\n",
       "  </thead>\n",
       "  <tbody>\n",
       "    <tr>\n",
       "      <th>2523</th>\n",
       "      <td>718671</td>\n",
       "      <td>COMPLETED</td>\n",
       "      <td>Projeto Pata Vermelha</td>\n",
       "      <td>Zoófila</td>\n",
       "      <td>Giving Tuesday</td>\n",
       "      <td>2019-12-02</td>\n",
       "      <td>2019-12-30</td>\n",
       "      <td>500</td>\n",
       "      <td>520</td>\n",
       "      <td>21</td>\n",
       "      <td>Porto</td>\n",
       "      <td>69cd452b668474280029279566cf3de4</td>\n",
       "      <td>0</td>\n",
       "      <td></td>\n",
       "      <td>907</td>\n",
       "      <td>https://www.facebook.com/patavermelha/</td>\n",
       "      <td>ppl.pt/718671</td>\n",
       "      <td>https://youtu.be/ZQow0BY3W4g</td>\n",
       "      <td>Angariação de fundos para a compra de medicaçã...</td>\n",
       "      <td>1</td>\n",
       "    </tr>\n",
       "    <tr>\n",
       "      <th>2524</th>\n",
       "      <td>718748</td>\n",
       "      <td>NOT FINANCED</td>\n",
       "      <td>Mais próximo de todos - Centro de Contacto</td>\n",
       "      <td>Social</td>\n",
       "      <td>Giving Tuesday</td>\n",
       "      <td>2019-12-02</td>\n",
       "      <td>2019-12-30</td>\n",
       "      <td>5000</td>\n",
       "      <td>0</td>\n",
       "      <td>0</td>\n",
       "      <td>Lisboa</td>\n",
       "      <td>7748cecee5f9b790973e848f8ea45ec8</td>\n",
       "      <td>0</td>\n",
       "      <td>1</td>\n",
       "      <td>64</td>\n",
       "      <td>https://www.facebook.com/leoesdeportugal/</td>\n",
       "      <td>ppl.pt/718748</td>\n",
       "      <td></td>\n",
       "      <td>Combater o isolamento dos idosos: encurtar dis...</td>\n",
       "      <td>1</td>\n",
       "    </tr>\n",
       "    <tr>\n",
       "      <th>2525</th>\n",
       "      <td>719255</td>\n",
       "      <td>NOT FINANCED</td>\n",
       "      <td>Ecos da Vermelha - Filme de Mestrado em Cinema</td>\n",
       "      <td>Dança/Cinema/Teatro</td>\n",
       "      <td></td>\n",
       "      <td>2019-12-02</td>\n",
       "      <td>2019-12-26</td>\n",
       "      <td>2000</td>\n",
       "      <td>2</td>\n",
       "      <td>2</td>\n",
       "      <td>Vila Franca de Xira, Portugal</td>\n",
       "      <td>026f13e14df680da80eca48883419949</td>\n",
       "      <td>0</td>\n",
       "      <td>10</td>\n",
       "      <td>458</td>\n",
       "      <td></td>\n",
       "      <td>ppl.pt/719255</td>\n",
       "      <td>https://www.youtube.com/watch?v=mE6MAE-JG9U&amp;fe...</td>\n",
       "      <td>NaN</td>\n",
       "      <td>0</td>\n",
       "    </tr>\n",
       "    <tr>\n",
       "      <th>2526</th>\n",
       "      <td>719295</td>\n",
       "      <td>NOT FINANCED</td>\n",
       "      <td>Adquirir 6 cadeirões de Colheita de Sangue</td>\n",
       "      <td>Social</td>\n",
       "      <td>Giving Tuesday</td>\n",
       "      <td>2019-12-03</td>\n",
       "      <td>2020-01-02</td>\n",
       "      <td>2000</td>\n",
       "      <td>15</td>\n",
       "      <td>1</td>\n",
       "      <td>Guimarães</td>\n",
       "      <td>8b693bb43ad361e037d5e609ab74bf11</td>\n",
       "      <td>0</td>\n",
       "      <td></td>\n",
       "      <td>185</td>\n",
       "      <td>https://www.facebook.com/ASSOCIA%C3%87%C3%83O-...</td>\n",
       "      <td>ppl.pt/719295</td>\n",
       "      <td></td>\n",
       "      <td>6 cadeiras para as Colheitas de Sangue</td>\n",
       "      <td>1</td>\n",
       "    </tr>\n",
       "    <tr>\n",
       "      <th>2527</th>\n",
       "      <td>721139</td>\n",
       "      <td>NOT FINANCED</td>\n",
       "      <td>Todos a bordo para o primeiro local com comida...</td>\n",
       "      <td>Social</td>\n",
       "      <td>PPL Causas</td>\n",
       "      <td>2019-12-11</td>\n",
       "      <td>2020-01-10</td>\n",
       "      <td>10000</td>\n",
       "      <td>445</td>\n",
       "      <td>20</td>\n",
       "      <td>Benfica, Lisboa, Portugal</td>\n",
       "      <td>76c2f52bb24ff6413ba62fe902f0c7f4</td>\n",
       "      <td>0</td>\n",
       "      <td>5</td>\n",
       "      <td>643</td>\n",
       "      <td>www.facebook.com/projetomarhaba</td>\n",
       "      <td>ppl.pt/721139</td>\n",
       "      <td>https://www.youtube.com/watch?v=UMobFlB8Jwg&amp;fe...</td>\n",
       "      <td>Marhaba é um projeto de inovação social para p...</td>\n",
       "      <td>1</td>\n",
       "    </tr>\n",
       "  </tbody>\n",
       "</table>\n",
       "</div>"
      ],
      "text/plain": [
       "               PID        STATUS  \\\n",
       "Unnamed: 0                         \n",
       "2523        718671     COMPLETED   \n",
       "2524        718748  NOT FINANCED   \n",
       "2525        719255  NOT FINANCED   \n",
       "2526        719295  NOT FINANCED   \n",
       "2527        721139  NOT FINANCED   \n",
       "\n",
       "                                                        TITLE  \\\n",
       "Unnamed: 0                                                      \n",
       "2523                                    Projeto Pata Vermelha   \n",
       "2524               Mais próximo de todos - Centro de Contacto   \n",
       "2525           Ecos da Vermelha - Filme de Mestrado em Cinema   \n",
       "2526               Adquirir 6 cadeirões de Colheita de Sangue   \n",
       "2527        Todos a bordo para o primeiro local com comida...   \n",
       "\n",
       "                            CAT         CHANNEL       START         END  \\\n",
       "Unnamed: 0                                                                \n",
       "2523                    Zoófila  Giving Tuesday  2019-12-02  2019-12-30   \n",
       "2524                     Social  Giving Tuesday  2019-12-02  2019-12-30   \n",
       "2525        Dança/Cinema/Teatro                  2019-12-02  2019-12-26   \n",
       "2526                     Social  Giving Tuesday  2019-12-03  2020-01-02   \n",
       "2527                     Social      PPL Causas  2019-12-11  2020-01-10   \n",
       "\n",
       "            TARGET  RAISED  BACKERS                       LOCATION  \\\n",
       "Unnamed: 0                                                           \n",
       "2523           500     520       21                          Porto   \n",
       "2524          5000       0        0                         Lisboa   \n",
       "2525          2000       2        2  Vila Franca de Xira, Portugal   \n",
       "2526          2000      15        1                      Guimarães   \n",
       "2527         10000     445       20      Benfica, Lisboa, Portugal   \n",
       "\n",
       "                                         UID  COMMENTS IMAGES  VIEWS  \\\n",
       "Unnamed: 0                                                             \n",
       "2523        69cd452b668474280029279566cf3de4         0           907   \n",
       "2524        7748cecee5f9b790973e848f8ea45ec8         0      1     64   \n",
       "2525        026f13e14df680da80eca48883419949         0     10    458   \n",
       "2526        8b693bb43ad361e037d5e609ab74bf11         0           185   \n",
       "2527        76c2f52bb24ff6413ba62fe902f0c7f4         0      5    643   \n",
       "\n",
       "                                                     FACEBOOK            URL  \\\n",
       "Unnamed: 0                                                                     \n",
       "2523                   https://www.facebook.com/patavermelha/  ppl.pt/718671   \n",
       "2524                https://www.facebook.com/leoesdeportugal/  ppl.pt/718748   \n",
       "2525                                                           ppl.pt/719255   \n",
       "2526        https://www.facebook.com/ASSOCIA%C3%87%C3%83O-...  ppl.pt/719295   \n",
       "2527                          www.facebook.com/projetomarhaba  ppl.pt/721139   \n",
       "\n",
       "                                                    VIDEO_URL  \\\n",
       "Unnamed: 0                                                      \n",
       "2523                             https://youtu.be/ZQow0BY3W4g   \n",
       "2524                                                            \n",
       "2525        https://www.youtube.com/watch?v=mE6MAE-JG9U&fe...   \n",
       "2526                                                            \n",
       "2527        https://www.youtube.com/watch?v=UMobFlB8Jwg&fe...   \n",
       "\n",
       "                                                  PRJ_SUMMARY  UNCOND_CHANNEL  \n",
       "Unnamed: 0                                                                     \n",
       "2523        Angariação de fundos para a compra de medicaçã...               1  \n",
       "2524        Combater o isolamento dos idosos: encurtar dis...               1  \n",
       "2525                                                      NaN               0  \n",
       "2526                   6 cadeiras para as Colheitas de Sangue               1  \n",
       "2527        Marhaba é um projeto de inovação social para p...               1  "
      ]
     },
     "execution_count": 3,
     "metadata": {},
     "output_type": "execute_result"
    }
   ],
   "source": [
    "df = pd.read_csv(settings.DATASET_PROJECTS_PATH, index_col=0)\n",
    "#df = clean(df)\n",
    "df.tail()"
   ]
  },
  {
   "cell_type": "markdown",
   "metadata": {},
   "source": [
    "<br><br>\n",
    "\n",
    "# 2. Exploration"
   ]
  },
  {
   "cell_type": "code",
   "execution_count": 9,
   "metadata": {
    "pycharm": {
     "name": "#%%\n"
    }
   },
   "outputs": [
    {
     "name": "stdout",
     "output_type": "stream",
     "text": [
      "\n",
      "\n",
      "\n",
      " _____     ______     ______   ______\n",
      "/\\  __-.  /\\  __ \\   /\\__  _\\ /\\  __ \\\n",
      "\\ \\ \\/\\ \\ \\ \\  __ \\  \\/_/\\ \\/ \\ \\  __ \\\n",
      " \\ \\____-  \\ \\_\\ \\_\\    \\ \\_\\  \\ \\_\\ \\_\\\n",
      "  \\/____/   \\/_/\\/_/     \\/_/   \\/_/\\/_/\n",
      "\n",
      " ______     __  __     ______   __         ______     ______     ______     ______   __     ______     __   __\n",
      "/\\  ___\\   /\\_\\_\\_\\   /\\  == \\ /\\ \\       /\\  __ \\   /\\  == \\   /\\  __ \\   /\\__  _\\ /\\ \\   /\\  __ \\   /\\ \"-.\\ \\\n",
      "\\ \\  __\\   \\/_/\\_\\/_  \\ \\  _-/ \\ \\ \\____  \\ \\ \\/\\ \\  \\ \\  __<   \\ \\  __ \\  \\/_/\\ \\/ \\ \\ \\  \\ \\ \\/\\ \\  \\ \\ \\-.  \\\n",
      " \\ \\_____\\   /\\_\\/\\_\\  \\ \\_\\    \\ \\_____\\  \\ \\_____\\  \\ \\_\\ \\_\\  \\ \\_\\ \\_\\    \\ \\_\\  \\ \\_\\  \\ \\_____\\  \\ \\_\\\\\"\\_\\\n",
      "  \\/_____/   \\/_/\\/_/   \\/_/     \\/_____/   \\/_____/   \\/_/ /_/   \\/_/\\/_/     \\/_/   \\/_/   \\/_____/   \\/_/ \\/_/\n",
      "\n",
      "\n",
      "\n",
      "\n",
      "======================================================================================================================================================\n",
      "First 5 rows \n",
      "======================================================================================================================================================\n",
      "\n",
      "(transpose view)\n",
      "\n",
      "                    0     1      2     3     4\n",
      "--------------  -----  ----  -----  ----  ----\n",
      "PID              1017  1018   1020  1022  1023\n",
      "STATUS            nan   nan    nan   nan   nan\n",
      "TITLE             nan   nan    nan   nan   nan\n",
      "CAT               nan   nan    nan   nan   nan\n",
      "CHANNEL           nan   nan    nan   nan   nan\n",
      "START             nan   nan    nan   nan   nan\n",
      "END               nan   nan    nan   nan   nan\n",
      "TARGET           3500  2500   2200   800  2500\n",
      "RAISED           3670   210   2216   335   360\n",
      "BACKERS            37     4     60     7    20\n",
      "LOCATION          nan   nan    nan   nan   nan\n",
      "UID               nan   nan    nan   nan   nan\n",
      "COMMENTS           10     0     11     0     1\n",
      "IMAGES              5     3     10     2     6\n",
      "VIEWS           10839  2102  11310  1800  2563\n",
      "FACEBOOK          nan   nan    nan   nan   nan\n",
      "URL               nan   nan    nan   nan   nan\n",
      "VIDEO_URL         nan   nan    nan   nan   nan\n",
      "PRJ_SUMMARY       nan   nan    nan   nan   nan\n",
      "UNCOND_CHANNEL      0     0      0     0     0\n",
      "\n",
      "\n",
      "\n",
      "\n",
      "\n",
      "======================================================================================================================================================\n",
      "Samples\n",
      "======================================================================================================================================================\n",
      "\n",
      "2,528\n",
      "\n",
      "\n",
      "\n",
      "\n",
      "\n",
      "======================================================================================================================================================\n",
      "Columns\n",
      "======================================================================================================================================================\n",
      "\n",
      "20 columns\n",
      "\n"
     ]
    },
    {
     "data": {
      "text/markdown": [
       "| Column         | Type   |   Distinct values | Values                                                                        |   % Missing |\n",
       "|----------------|--------|-------------------|-------------------------------------------------------------------------------|-------------|\n",
       "| PID            | int64  |              2466 | [1017, 1018, 1020, 1022, 1023, 1025, 1026, '...']                             |        0    |\n",
       "| STATUS         | object |                 2 | ['COMPLETED', 'NOT FINANCED']                                                 |        0    |\n",
       "| TITLE          | object |              2458 | ['...']                                                                       |        0    |\n",
       "| CAT            | object |                20 | ['Livros/Revistas', '...']                                                    |        0    |\n",
       "| CHANNEL        | object |                25 | [' ', 'The Next Big Idea', '...']                                             |        0    |\n",
       "| START          | object |              1356 | ['2011-08-16', '2011-08-23', '2011-08-15', '...']                             |        0    |\n",
       "| END            | object |              1175 | ['2011-10-15', '2011-10-16', '2011-11-14', '...']                             |        0    |\n",
       "| TARGET         | int64  |               339 | [3500, 2500, 2200, 800, 8000, 4000, 5000, '...']                              |        0    |\n",
       "| RAISED         | int64  |              1269 | [3670, 210, 2216, 335, 360, 573, 4000, 55, 2291, '...']                       |        0    |\n",
       "| BACKERS        | int64  |               236 | [37, 4, 60, 7, 20, 21, 38, 2, 35, 46, 6, 22, 33, 43, 49, 42, 40, '...']       |        0    |\n",
       "| LOCATION       | object |               852 | ['Maputo, Moçambique', '...']                                                 |        0    |\n",
       "| UID            | object |              2202 | ['...']                                                                       |        0    |\n",
       "| COMMENTS       | int64  |                31 | [10, 0, 11, 1, 6, 2, 8, 3, 5, 4, 7, 18, 17, 61, 28, 16, 9, 24, 21, 73, '...'] |        0    |\n",
       "| IMAGES         | object |                11 | ['5', '3', '10', '2', '6', '8', '4', '9', ' ', '1', '7']                      |        0    |\n",
       "| VIEWS          | int64  |              2120 | [10839, 2102, 11310, 1800, 2563, 6592, 3982, '...']                           |        0    |\n",
       "| FACEBOOK       | object |              1951 | ['...']                                                                       |        0.04 |\n",
       "| URL            | object |              2466 | ['ppl.pt/1017', 'ppl.pt/1018', '...']                                         |        0    |\n",
       "| VIDEO_URL      | object |              2397 | ['...']                                                                       |        0    |\n",
       "| PRJ_SUMMARY    | object |              2192 | [nan, '...']                                                                  |       10.88 |\n",
       "| UNCOND_CHANNEL | int64  |                 2 | [0, 1]                                                                        |        0    |"
      ],
      "text/plain": [
       "<IPython.core.display.Markdown object>"
      ]
     },
     "metadata": {},
     "output_type": "display_data"
    },
    {
     "name": "stdout",
     "output_type": "stream",
     "text": [
      "\n",
      "\n",
      "\n",
      "\n",
      "\n",
      "======================================================================================================================================================\n",
      "Pearson's Correlation\n",
      "======================================================================================================================================================\n",
      "\n",
      "\n",
      "(graph)\n",
      "\n",
      "Columns with values no higher than 0.05: \n",
      "(0 columns)\n",
      "\n",
      "\n",
      "\n",
      "\n",
      "\n",
      "\n",
      "\n",
      "\n",
      "\n",
      "\n"
     ]
    }
   ],
   "source": [
    "dskc_exploration.basic_exploration(df)"
   ]
  },
  {
   "cell_type": "code",
   "execution_count": 11,
   "metadata": {},
   "outputs": [
    {
     "data": {
      "text/plain": [
       "array(['Livros/Revistas', 'Alimentação/bebidas', 'Social',\n",
       "       'Ciência/Tecnologia', 'Música', 'Vídeo/Fotografia', 'Desporto',\n",
       "       'Dança/Cinema/Teatro', 'Turismo/Viagens', 'Empreendedorismo',\n",
       "       'Educação', 'Moda/Design', 'Jogos', 'Ambiente', 'Evento', 'Outros',\n",
       "       'Zoófila', 'Agro-indústria', 'Cidadania / Política',\n",
       "       'Artes Plásticas'], dtype=object)"
      ]
     },
     "execution_count": 11,
     "metadata": {},
     "output_type": "execute_result"
    }
   ],
   "source": [
    "df[\"CAT\"].unique()"
   ]
  },
  {
   "cell_type": "markdown",
   "metadata": {},
   "source": [
    "# 3. Visualization"
   ]
  },
  {
   "cell_type": "markdown",
   "metadata": {},
   "source": [
    "## 3.1 Graphs"
   ]
  },
  {
   "cell_type": "code",
   "execution_count": 24,
   "metadata": {},
   "outputs": [
    {
     "data": {
      "application/vnd.jupyter.widget-view+json": {
       "model_id": "5753d3b22a1a46359f8553f7a45ff45e",
       "version_major": 2,
       "version_minor": 0
      },
      "text/plain": [
       "Dropdown(description='Column:', options=('0. title_prj_summary_topic_1', '1. title_prj_summary_topic_2', '2. t…"
      ]
     },
     "metadata": {},
     "output_type": "display_data"
    }
   ],
   "source": [
    "dskc_graphs.all_graphs(df, target=\"FINANCED\", target_true=\"COMPLETED\", gui=True)"
   ]
  },
  {
   "cell_type": "markdown",
   "metadata": {},
   "source": [
    "## 3.2 Topic Modeling"
   ]
  },
  {
   "cell_type": "code",
   "execution_count": 15,
   "metadata": {},
   "outputs": [
    {
     "name": "stdout",
     "output_type": "stream",
     "text": [
      "saving model... "
     ]
    },
    {
     "data": {
      "text/markdown": [
       "|   Num Topics |   Coherence |\n",
       "|--------------|-------------|\n",
       "|            2 |        0.35 |\n",
       "|            3 |        0.31 |\n",
       "|            4 |        0.31 |\n",
       "|            5 |        0.45 |\n",
       "|            6 |        0.43 |\n",
       "|            7 |        0.42 |\n",
       "|            8 |        0.47 |\n",
       "|            9 |        0.44 |\n",
       "|           10 |        0.49 |\n",
       "|           11 |        0.51 |\n",
       "|           12 |        0.51 |\n",
       "|           13 |        0.53 |\n",
       "|           14 |        0.54 |\n",
       "|           15 |        0.55 |\n",
       "|           16 |        0.55 |\n",
       "|           17 |        0.55 |\n",
       "|           18 |        0.55 |\n",
       "|           19 |        0.56 |"
      ],
      "text/plain": [
       "<IPython.core.display.Markdown object>"
      ]
     },
     "metadata": {},
     "output_type": "display_data"
    },
    {
     "data": {
      "image/png": "[encoded data removed]",
      "text/plain": [
       "<Figure size 432x288 with 1 Axes>"
      ]
     },
     "metadata": {
      "needs_background": "light"
     },
     "output_type": "display_data"
    },
    {
     "data": {
      "text/html": [
       "\n",
       "<link rel=\"stylesheet\" type=\"text/css\" href=\"https://cdn.rawgit.com/bmabey/pyLDAvis/files/ldavis.v1.0.0.css\">\n",
       "\n",
       "\n",
       "<div id=\"ldavis_el333811400798928749684766039702\"></div>\n",
       "<script type=\"text/javascript\">\n",
       "\n",
       "var ldavis_el333811400798928749684766039702_data = {\"mdsDat\": {\"x\": [0.16865784122897004, -0.2608251919411408, 0.06085231623480908, 0.051654545301742315, -0.034888081271408446, 0.014548570447027823], \"y\": [-0.22175574397180545, -0.08688250770500583, 0.1769705998202597, 0.05893304258818882, 0.002664353168015354, 0.0700702561003474], \"topics\": [1, 2, 3, 4, 5, 6], \"cluster\": [1, 1, 1, 1, 1, 1], \"Freq\": [19.55034637451172, 19.104860305786133, 17.438722610473633, 15.15048885345459, 14.796416282653809, 13.959171295166016]}, \"tinfo\": {\"Term\": [\"livro\", \"criancas\", \"casa\", \"espaco\", \"angariacao_fundos\", \"associacao\", \"missao\", \"edicao\", \"objetivo\", \"queremos\", \"criar\", \"ajude\", \"historia\", \"musica\", \"curta_metragem\", \"nova\", \"comunidade\", \"escola\", \"solidaria\", \"festival\", \"tornar\", \"futuro\", \"social\", \"projetos\", \"lisboa\", \"jovens\", \"formacao\", \"pais\", \"centro\", \"familias\", \"comunidade\", \"festival\", \"projetos\", \"formacao\", \"saude\", \"viagem\", \"populacao\", \"escolar\", \"cidade\", \"levar\", \"preciso\", \"moda\", \"juntos\", \"estar\", \"quer\", \"voluntariado\", \"artes\", \"falta\", \"nivel\", \"ir\", \"curso\", \"dinheiro\", \"varias\", \"cabo_verde\", \"agenda\", \"terminar\", \"cabo\", \"atletas\", \"angariar\", \"industrial\", \"nacional\", \"lisboa\", \"mundo\", \"criancas\", \"casa\", \"espaco\", \"associacao\", \"criar\", \"pais\", \"criacao\", \"situacao\", \"natal\", \"pretendemos\", \"condicoes\", \"educacao\", \"ilha\", \"santiago\", \"refugiados\", \"agua\", \"combater\", \"sociedade\", \"dignidade\", \"rumo\", \"continuar\", \"luta\", \"construcao\", \"acolhimento\", \"aldeia\", \"sustentavel\", \"regiao\", \"mae\", \"equipar\", \"acolhedor\", \"ajude\", \"centro\", \"pretende\", \"jovens\", \"objectivo\", \"animais\", \"livro\", \"missao\", \"objetivo\", \"historia\", \"infantil\", \"vez\", \"fundos\", \"crianca\", \"amigos\", \"possivel\", \"viver\", \"abrigo\", \"terra\", \"maquina\", \"necessita\", \"portugues\", \"rede\", \"cultura\", \"mocambique\", \"sentido\", \"comprar\", \"novas\", \"construir\", \"deficiencia\", \"rua\", \"sangue\", \"coracao\", \"lar\", \"espera\", \"editora\", \"escolhe\", \"contamos\", \"precisa\", \"mundo\", \"realizar\", \"queremos\", \"musica\", \"nova\", \"tornar\", \"album\", \"cd\", \"porto\", \"adquirir\", \"profissional\", \"gravacao\", \"material\", \"apresentar\", \"pos\", \"idosos\", \"amor\", \"contentores\", \"disco\", \"exposicao\", \"noite\", \"enquanto\", \"vosso\", \"solidario\", \"alunos\", \"passo\", \"poesia\", \"momento\", \"caderno\", \"chegou\", \"ola\", \"abril\", \"idosa\", \"cognitiva\", \"arrabalde\", \"edicao\", \"conseguir\", \"grupo\", \"lisboa\", \"precisamos\", \"angariacao_fundos\", \"escola\", \"solidaria\", \"futuro\", \"familias\", \"cultural\", \"arte\", \"portuguesa\", \"ha\", \"sala\", \"bairro\", \"idade\", \"teatro\", \"proximo\", \"roupa\", \"felicidade\", \"pecas\", \"interior\", \"video\", \"filme\", \"la\", \"marca\", \"danca\", \"isolamento\", \"lavandaria\", \"obra\", \"las\", \"instituicao\", \"filhos\", \"plataforma\", \"social\", \"realizar\", \"jovens\", \"pretende\", \"curta_metragem\", \"vossa\", \"mulheres\", \"familia\", \"angariar_fundos\", \"feliz\", \"cinema\", \"procura\", \"maes\", \"junta\", \"inverno\", \"trabalho\", \"evento\", \"bois\", \"tempo\", \"vermelha\", \"creche\", \"financiamento\", \"movimento\", \"consiste\", \"residencia\", \"tres\", \"joao\", \"novos\", \"canga\", \"ajudem\", \"monte\", \"banda\", \"voltar\", \"actividades\", \"janela\", \"filhas\", \"ima\", \"agora\", \"precisamos\", \"internacional\"], \"Freq\": [271.0, 198.0, 152.0, 147.0, 88.0, 102.0, 95.0, 108.0, 85.0, 78.0, 89.0, 95.0, 82.0, 74.0, 68.0, 70.0, 80.0, 67.0, 64.0, 75.0, 63.0, 62.0, 91.0, 70.0, 105.0, 101.0, 66.0, 64.0, 73.0, 54.0, 79.52361297607422, 75.10327911376953, 69.29659271240234, 65.90203857421875, 63.024139404296875, 55.24492263793945, 54.70988845825195, 48.28464126586914, 47.576210021972656, 43.75328063964844, 41.0582275390625, 39.41513442993164, 38.42446517944336, 36.871612548828125, 35.778045654296875, 34.6397590637207, 34.62446975708008, 33.83530044555664, 33.33690643310547, 32.61569595336914, 32.41407775878906, 32.370975494384766, 32.475345611572266, 31.883651733398438, 33.33978271484375, 30.809555053710938, 29.697582244873047, 29.28452491760254, 29.224454879760742, 31.606325149536133, 45.713661193847656, 61.03106689453125, 61.06745529174805, 197.75262451171875, 152.07330322265625, 146.73007202148438, 101.33168029785156, 88.6865234375, 63.808799743652344, 54.7058219909668, 54.522682189941406, 48.37394714355469, 41.757904052734375, 41.1939697265625, 40.37154006958008, 39.9292106628418, 38.66982650756836, 38.44508743286133, 35.410919189453125, 35.13050842285156, 33.12971496582031, 32.68162155151367, 32.387298583984375, 31.51805305480957, 30.938283920288086, 30.26840591430664, 30.185420989990234, 27.573196411132812, 26.939788818359375, 26.28575325012207, 24.91483497619629, 24.83826446533203, 28.00828742980957, 92.81694030761719, 68.47991943359375, 63.165184020996094, 53.82796859741211, 42.80596923828125, 33.82487487792969, 270.8827819824219, 94.71179962158203, 84.51472473144531, 82.10296630859375, 52.48647689819336, 45.569602966308594, 45.199867248535156, 44.21603775024414, 43.50169372558594, 42.965850830078125, 42.29424285888672, 40.28382873535156, 38.176307678222656, 38.040077209472656, 37.190528869628906, 35.59087371826172, 35.27149200439453, 33.96123504638672, 33.31501388549805, 32.972923278808594, 32.44700241088867, 31.4890079498291, 30.313024520874023, 30.123384475708008, 27.9370174407959, 28.280752182006836, 27.912315368652344, 27.88811683654785, 27.825565338134766, 26.467731475830078, 27.759971618652344, 34.03511428833008, 34.4620475769043, 35.00726318359375, 28.538776397705078, 77.62805938720703, 73.99382781982422, 70.2042236328125, 63.081905364990234, 51.8069953918457, 51.623783111572266, 50.02600860595703, 46.74976348876953, 40.468055725097656, 39.54471206665039, 38.5595588684082, 37.07914733886719, 34.97752380371094, 34.570865631103516, 32.92216491699219, 44.22092819213867, 31.908414840698242, 32.02544021606445, 29.156517028808594, 29.097814559936523, 28.18138313293457, 28.274446487426758, 26.874271392822266, 25.94858169555664, 25.802648544311523, 25.68709945678711, 28.391321182250977, 25.255916595458984, 24.228031158447266, 23.07855987548828, 27.83614158630371, 27.83614158630371, 27.643064498901367, 85.96916198730469, 34.670494079589844, 36.48307418823242, 43.840858459472656, 30.67647933959961, 87.33360290527344, 66.38069915771484, 64.07667541503906, 61.5516242980957, 53.620243072509766, 52.871437072753906, 51.72503662109375, 49.99555206298828, 47.08798599243164, 46.19144058227539, 41.60964584350586, 41.181724548339844, 38.26626205444336, 37.741458892822266, 35.70493698120117, 34.86591720581055, 34.715633392333984, 35.47261428833008, 34.08621597290039, 31.499866485595703, 31.28477668762207, 29.493589401245117, 27.873769760131836, 28.97000503540039, 27.1411075592041, 26.410715103149414, 26.42599868774414, 26.13672637939453, 23.642881393432617, 23.25079345703125, 60.456233978271484, 43.35039520263672, 47.174034118652344, 31.916664123535156, 67.91105651855469, 51.535491943359375, 48.779380798339844, 46.1669807434082, 44.87337875366211, 44.31187057495117, 41.69705581665039, 41.27256393432617, 40.52272415161133, 50.64107894897461, 40.45193862915039, 36.70353317260742, 36.76740646362305, 37.6075439453125, 34.28905487060547, 34.35319519042969, 37.965606689453125, 29.221057891845703, 27.977231979370117, 26.59003257751465, 27.305883407592773, 26.35858726501465, 25.8668212890625, 23.72983741760254, 24.959636688232422, 22.858327865600586, 22.68499755859375, 21.635961532592773, 21.381610870361328, 21.56257438659668, 24.538856506347656, 24.81653594970703, 24.15001106262207, 38.26039123535156, 40.059757232666016, 24.1561222076416], \"Total\": [271.0, 198.0, 152.0, 147.0, 88.0, 102.0, 95.0, 108.0, 85.0, 78.0, 89.0, 95.0, 82.0, 74.0, 68.0, 70.0, 80.0, 67.0, 64.0, 75.0, 63.0, 62.0, 91.0, 70.0, 105.0, 101.0, 66.0, 64.0, 73.0, 54.0, 80.25163269042969, 75.82109832763672, 70.05632019042969, 66.6265869140625, 63.742618560791016, 55.96766662597656, 55.44206619262695, 49.007720947265625, 48.29570770263672, 44.47407150268555, 41.77728271484375, 40.15309143066406, 39.146610260009766, 37.59069061279297, 36.499446868896484, 35.359710693359375, 35.34479904174805, 34.56284713745117, 34.05788803100586, 33.334922790527344, 33.132938385009766, 33.0902214050293, 33.198665618896484, 32.60371017456055, 34.12002182006836, 31.537641525268555, 30.417579650878906, 30.003395080566406, 29.943344116210938, 32.39056396484375, 48.740806579589844, 105.4413833618164, 136.42747497558594, 198.4844207763672, 152.80874633789062, 147.46815490722656, 102.06358337402344, 89.41997528076172, 64.5455551147461, 55.437408447265625, 55.25763702392578, 49.11442184448242, 42.49070739746094, 41.92819595336914, 41.10313034057617, 40.664608001708984, 39.40163040161133, 39.18046569824219, 36.142215728759766, 35.871742248535156, 33.862796783447266, 33.419166564941406, 33.122474670410156, 32.25164794921875, 31.67300796508789, 31.000171661376953, 30.97193145751953, 28.30702018737793, 27.67481231689453, 27.02272605895996, 25.652772903442383, 25.577390670776367, 28.87074089050293, 95.96504974365234, 73.43743133544922, 104.83331298828125, 101.5947036743164, 98.75930786132812, 55.94015121459961, 271.60638427734375, 95.44449615478516, 85.24269104003906, 82.8298568725586, 53.212406158447266, 46.298683166503906, 45.929691314697266, 44.94414138793945, 44.23561477661133, 43.692440032958984, 43.02531814575195, 41.018123626708984, 38.902557373046875, 38.78450393676758, 37.927860260009766, 36.318267822265625, 36.008792877197266, 34.688358306884766, 34.04132080078125, 33.712528228759766, 33.176849365234375, 32.220428466796875, 31.041284561157227, 30.86065101623535, 28.660934448242188, 29.01492691040039, 28.6398868560791, 28.622194290161133, 28.581388473510742, 27.191923141479492, 28.541046142578125, 52.45196533203125, 61.11658477783203, 136.42747497558594, 72.47959899902344, 78.34847259521484, 74.7094497680664, 70.92447662353516, 63.80568313598633, 52.519927978515625, 52.33744812011719, 50.74412155151367, 47.47381591796875, 41.18799591064453, 40.257381439208984, 39.27983093261719, 37.79471969604492, 35.70900344848633, 35.30131149291992, 33.63992691040039, 45.189674377441406, 32.621360778808594, 32.742469787597656, 29.876018524169922, 29.821107864379883, 28.900531768798828, 28.996570587158203, 27.593963623046875, 26.666488647460938, 26.516870498657227, 26.405813217163086, 29.20162582397461, 26.000211715698242, 24.947402954101562, 23.80510711669922, 28.786163330078125, 28.786163330078125, 28.716598510742188, 108.54344940185547, 46.865570068359375, 52.614593505859375, 105.4413833618164, 81.46495056152344, 88.06846618652344, 67.11414337158203, 64.82991790771484, 62.29055404663086, 54.3603515625, 53.60254669189453, 52.45624542236328, 50.727989196777344, 47.82206344604492, 46.96665573120117, 42.34361267089844, 41.919673919677734, 38.99608612060547, 38.4767951965332, 36.438175201416016, 35.59772872924805, 35.44852828979492, 36.22762680053711, 34.81950759887695, 32.236045837402344, 32.01759719848633, 30.224586486816406, 28.60280990600586, 29.727956771850586, 27.895322799682617, 27.144874572753906, 27.170923233032227, 26.881000518798828, 24.381790161132812, 23.982702255249023, 91.07737731933594, 72.47959899902344, 101.5947036743164, 104.83331298828125, 68.6467514038086, 52.27389144897461, 49.514404296875, 46.90403366088867, 45.61184310913086, 45.072269439697266, 42.4330940246582, 42.012516021728516, 41.269615173339844, 51.59112548828125, 41.210975646972656, 37.43653106689453, 37.503299713134766, 38.392677307128906, 35.023353576660156, 35.10208511352539, 38.86481857299805, 29.961240768432617, 28.715909957885742, 27.325519561767578, 28.061933517456055, 27.094388961791992, 26.60226821899414, 24.46906089782715, 25.76110076904297, 23.594057083129883, 23.43358039855957, 22.368310928344727, 22.119760513305664, 22.310930252075195, 25.62202262878418, 25.950138092041016, 25.496002197265625, 61.2984619140625, 81.46495056152344, 52.37438201904297], \"Category\": [\"Default\", \"Default\", \"Default\", \"Default\", \"Default\", \"Default\", \"Default\", \"Default\", \"Default\", \"Default\", \"Default\", \"Default\", \"Default\", \"Default\", \"Default\", \"Default\", \"Default\", \"Default\", \"Default\", \"Default\", \"Default\", \"Default\", \"Default\", \"Default\", \"Default\", \"Default\", \"Default\", \"Default\", \"Default\", \"Default\", \"Topic1\", \"Topic1\", \"Topic1\", \"Topic1\", \"Topic1\", \"Topic1\", \"Topic1\", \"Topic1\", \"Topic1\", \"Topic1\", \"Topic1\", \"Topic1\", \"Topic1\", \"Topic1\", \"Topic1\", \"Topic1\", \"Topic1\", \"Topic1\", \"Topic1\", \"Topic1\", \"Topic1\", \"Topic1\", \"Topic1\", \"Topic1\", \"Topic1\", \"Topic1\", \"Topic1\", \"Topic1\", \"Topic1\", \"Topic1\", \"Topic1\", \"Topic1\", \"Topic1\", \"Topic2\", \"Topic2\", \"Topic2\", \"Topic2\", \"Topic2\", \"Topic2\", \"Topic2\", \"Topic2\", \"Topic2\", \"Topic2\", \"Topic2\", \"Topic2\", \"Topic2\", \"Topic2\", \"Topic2\", \"Topic2\", \"Topic2\", \"Topic2\", \"Topic2\", \"Topic2\", \"Topic2\", \"Topic2\", \"Topic2\", \"Topic2\", \"Topic2\", \"Topic2\", \"Topic2\", \"Topic2\", \"Topic2\", \"Topic2\", \"Topic2\", \"Topic2\", \"Topic2\", \"Topic2\", \"Topic2\", \"Topic2\", \"Topic3\", \"Topic3\", \"Topic3\", \"Topic3\", \"Topic3\", \"Topic3\", \"Topic3\", \"Topic3\", \"Topic3\", \"Topic3\", \"Topic3\", \"Topic3\", \"Topic3\", \"Topic3\", \"Topic3\", \"Topic3\", \"Topic3\", \"Topic3\", \"Topic3\", \"Topic3\", \"Topic3\", \"Topic3\", \"Topic3\", \"Topic3\", \"Topic3\", \"Topic3\", \"Topic3\", \"Topic3\", \"Topic3\", \"Topic3\", \"Topic3\", \"Topic3\", \"Topic3\", \"Topic3\", \"Topic3\", \"Topic4\", \"Topic4\", \"Topic4\", \"Topic4\", \"Topic4\", \"Topic4\", \"Topic4\", \"Topic4\", \"Topic4\", \"Topic4\", \"Topic4\", \"Topic4\", \"Topic4\", \"Topic4\", \"Topic4\", \"Topic4\", \"Topic4\", \"Topic4\", \"Topic4\", \"Topic4\", \"Topic4\", \"Topic4\", \"Topic4\", \"Topic4\", \"Topic4\", \"Topic4\", \"Topic4\", \"Topic4\", \"Topic4\", \"Topic4\", \"Topic4\", \"Topic4\", \"Topic4\", \"Topic4\", \"Topic4\", \"Topic4\", \"Topic4\", \"Topic4\", \"Topic5\", \"Topic5\", \"Topic5\", \"Topic5\", \"Topic5\", \"Topic5\", \"Topic5\", \"Topic5\", \"Topic5\", \"Topic5\", \"Topic5\", \"Topic5\", \"Topic5\", \"Topic5\", \"Topic5\", \"Topic5\", \"Topic5\", \"Topic5\", \"Topic5\", \"Topic5\", \"Topic5\", \"Topic5\", \"Topic5\", \"Topic5\", \"Topic5\", \"Topic5\", \"Topic5\", \"Topic5\", \"Topic5\", \"Topic5\", \"Topic5\", \"Topic5\", \"Topic5\", \"Topic5\", \"Topic6\", \"Topic6\", \"Topic6\", \"Topic6\", \"Topic6\", \"Topic6\", \"Topic6\", \"Topic6\", \"Topic6\", \"Topic6\", \"Topic6\", \"Topic6\", \"Topic6\", \"Topic6\", \"Topic6\", \"Topic6\", \"Topic6\", \"Topic6\", \"Topic6\", \"Topic6\", \"Topic6\", \"Topic6\", \"Topic6\", \"Topic6\", \"Topic6\", \"Topic6\", \"Topic6\", \"Topic6\", \"Topic6\", \"Topic6\", \"Topic6\", \"Topic6\", \"Topic6\", \"Topic6\", \"Topic6\", \"Topic6\"], \"logprob\": [30.0, 29.0, 28.0, 27.0, 26.0, 25.0, 24.0, 23.0, 22.0, 21.0, 20.0, 19.0, 18.0, 17.0, 16.0, 15.0, 14.0, 13.0, 12.0, 11.0, 10.0, 9.0, 8.0, 7.0, 6.0, 5.0, 4.0, 3.0, 2.0, 1.0, -4.674900054931641, -4.732100009918213, -4.812600135803223, -4.862800121307373, -4.907400131225586, -5.0391998291015625, -5.048900127410889, -5.173799991607666, -5.188600063323975, -5.27239990234375, -5.335999965667725, -5.376800060272217, -5.402299880981445, -5.44350004196167, -5.473599910736084, -5.50600004196167, -5.506400108337402, -5.5295000076293945, -5.544300079345703, -5.566199779510498, -5.572400093078613, -5.573699951171875, -5.570499897003174, -5.588900089263916, -5.5441999435424805, -5.6230998039245605, -5.659900188446045, -5.673900127410889, -5.676000118255615, -5.597599983215332, -5.228600025177002, -4.939599990844727, -4.939000129699707, -3.7409000396728516, -4.003499984741211, -4.039299964904785, -4.4095001220703125, -4.542799949645996, -4.872000217437744, -5.025899887084961, -5.029300212860107, -5.148900032043457, -5.296000003814697, -5.309599876403809, -5.329800128936768, -5.340799808502197, -5.372799873352051, -5.378699779510498, -5.460899829864502, -5.468800067901611, -5.527500152587891, -5.541100025177002, -5.550099849700928, -5.577300071716309, -5.595900058746338, -5.617800235748291, -5.620500087738037, -5.711100101470947, -5.734300136566162, -5.758900165557861, -5.812399864196777, -5.815499782562256, -5.695400238037109, -4.497300148010254, -4.801400184631348, -4.882199764251709, -5.042099952697754, -5.271200180053711, -5.506700038909912, -3.3350000381469727, -4.385799884796143, -4.49970006942749, -4.52869987487793, -4.976099967956543, -5.117400169372559, -5.1255998611450195, -5.147600173950195, -5.163899898529053, -5.176300048828125, -5.191999912261963, -5.240699768066406, -5.294400215148926, -5.297999858856201, -5.3206000328063965, -5.36460018157959, -5.373600006103516, -5.411399841308594, -5.430600166320801, -5.440999984741211, -5.456999778747559, -5.486999988555908, -5.525100231170654, -5.531400203704834, -5.6066999435424805, -5.5945000648498535, -5.607600212097168, -5.608500003814697, -5.6107001304626465, -5.660699844360352, -5.613100051879883, -5.409299850463867, -5.3968000411987305, -5.381100177764893, -5.585400104522705, -4.4440999031066895, -4.492000102996826, -4.544600009918213, -4.651599884033203, -4.848499774932861, -4.8520002365112305, -4.883500099182129, -4.951200008392334, -5.0954999923706055, -5.118599891662598, -5.143799781799316, -5.1828999519348145, -5.241300106048584, -5.252999782562256, -5.3018999099731445, -5.006800174713135, -5.333099842071533, -5.329500198364258, -5.423299789428711, -5.425300121307373, -5.457300186157227, -5.453999996185303, -5.504799842834473, -5.539899826049805, -5.545499801635742, -5.550000190734863, -5.449900150299072, -5.56689977645874, -5.608500003814697, -5.657100200653076, -5.469699859619141, -5.469699859619141, -5.476600170135498, -4.3420000076293945, -5.250100135803223, -5.199100017547607, -5.015399932861328, -5.372499942779541, -4.302599906921387, -4.576900005340576, -4.612299919128418, -4.652500152587891, -4.79040002822876, -4.804500102996826, -4.826399803161621, -4.860400199890137, -4.920300006866455, -4.939599990844727, -5.044000148773193, -5.0543999671936035, -5.127799987792969, -5.141600131988525, -5.1971001625061035, -5.220799922943115, -5.225200176239014, -5.20359992980957, -5.243500232696533, -5.322400093078613, -5.32919979095459, -5.388199806213379, -5.444699764251709, -5.406099796295166, -5.47130012512207, -5.498600006103516, -5.498000144958496, -5.508999824523926, -5.609300136566162, -5.625999927520752, -4.670400142669678, -5.002999782562256, -4.918499946594238, -5.309199810028076, -4.4959001541137695, -4.7718000411987305, -4.8267998695373535, -4.881800174713135, -4.910299777984619, -4.922800064086914, -4.983699798583984, -4.993899822235107, -5.012199878692627, -4.789299964904785, -5.013999938964844, -5.111199855804443, -5.109499931335449, -5.086900234222412, -5.179299831390381, -5.1774001121521, -5.077400207519531, -5.339200019836426, -5.382699966430664, -5.433599948883057, -5.4070000648498535, -5.442299842834473, -5.461100101470947, -5.547399997711182, -5.496799945831299, -5.584799766540527, -5.592400074005127, -5.639699935913086, -5.651599884033203, -5.643099784851074, -5.513800144195557, -5.502600193023682, -5.529799938201904, -5.069699764251709, -5.02370023727417, -5.529600143432617], \"loglift\": [30.0, 29.0, 28.0, 27.0, 26.0, 25.0, 24.0, 23.0, 22.0, 21.0, 20.0, 19.0, 18.0, 17.0, 16.0, 15.0, 14.0, 13.0, 12.0, 11.0, 10.0, 9.0, 8.0, 7.0, 6.0, 5.0, 4.0, 3.0, 2.0, 1.0, 1.6231000423431396, 1.6226999759674072, 1.6212999820709229, 1.6211999654769897, 1.6208000183105469, 1.6191999912261963, 1.618899941444397, 1.617300033569336, 1.6172000169754028, 1.6158000230789185, 1.614799976348877, 1.6136000156402588, 1.6136000156402588, 1.6129000186920166, 1.6122000217437744, 1.6116000413894653, 1.6116000413894653, 1.6109000444412231, 1.61080002784729, 1.6103999614715576, 1.610200047492981, 1.610200047492981, 1.6101000308990479, 1.6097999811172485, 1.6089999675750732, 1.6088000535964966, 1.608199954032898, 1.6079000234603882, 1.6079000234603882, 1.607699990272522, 1.5680999755859375, 1.0853999853134155, 0.8284000158309937, 1.6514999866485596, 1.6504000425338745, 1.6502000093460083, 1.6480000019073486, 1.6469999551773071, 1.6437000036239624, 1.6418999433517456, 1.641800045967102, 1.6399999856948853, 1.6377999782562256, 1.6375999450683594, 1.6373000144958496, 1.6369999647140503, 1.6365000009536743, 1.636299967765808, 1.6347999572753906, 1.6342999935150146, 1.6332999467849731, 1.6328999996185303, 1.6327999830245972, 1.632200002670288, 1.6318000555038452, 1.6312999725341797, 1.6295000314712524, 1.628999948501587, 1.6282999515533447, 1.6275999546051025, 1.6260000467300415, 1.6259000301361084, 1.624899983406067, 1.621899962425232, 1.5852999687194824, 1.1485999822616577, 1.0199999809265137, 0.8191999793052673, 1.1520999670028687, 1.7438000440597534, 1.738800048828125, 1.7379000186920166, 1.7376999855041504, 1.732699990272522, 1.7305999994277954, 1.7304999828338623, 1.7301000356674194, 1.729699969291687, 1.729699969291687, 1.7293000221252441, 1.7283999919891357, 1.7275999784469604, 1.7271000146865845, 1.7267999649047852, 1.726199984550476, 1.7258000373840332, 1.7252999544143677, 1.7249000072479248, 1.7243000268936157, 1.7242000102996826, 1.7235000133514404, 1.7226999998092651, 1.7223000526428223, 1.720900058746338, 1.7208000421524048, 1.7207000255584717, 1.7204999923706055, 1.7196999788284302, 1.719499945640564, 1.7187000513076782, 1.3140000104904175, 1.1735999584197998, 0.3862000107765198, 0.8144000172615051, 1.8779000043869019, 1.877500057220459, 1.8768999576568604, 1.8756999969482422, 1.8734999895095825, 1.8733999729156494, 1.8729000091552734, 1.8717999458312988, 1.8695000410079956, 1.8693000078201294, 1.8686000108718872, 1.8680000305175781, 1.8664000034332275, 1.8661999702453613, 1.8655999898910522, 1.8654999732971191, 1.8650000095367432, 1.8650000095367432, 1.8628000020980835, 1.8625999689102173, 1.861899971961975, 1.861899971961975, 1.860700011253357, 1.8597999811172485, 1.8597999811172485, 1.8595000505447388, 1.8589999675750732, 1.8581000566482544, 1.8579000234603882, 1.8560999631881714, 1.853600025177002, 1.853600025177002, 1.8489999771118164, 1.6540000438690186, 1.5857000350952148, 1.5210000276565552, 1.0095000267028809, 0.9104999899864197, 1.902400016784668, 1.8997999429702759, 1.8990999460220337, 1.898900032043457, 1.8970999717712402, 1.8970999717712402, 1.8967000246047974, 1.8961999416351318, 1.895300030708313, 1.8940999507904053, 1.8933000564575195, 1.8930000066757202, 1.8918999433517456, 1.8914999961853027, 1.8904999494552612, 1.8899999856948853, 1.8898999691009521, 1.8897000551223755, 1.8895000219345093, 1.8876999616622925, 1.8875999450683594, 1.886299967765808, 1.8849999904632568, 1.8849999904632568, 1.8833999633789062, 1.8833999633789062, 1.8830000162124634, 1.882699966430664, 1.8799999952316284, 1.8797999620437622, 1.5010000467300415, 1.3968000411987305, 1.1435999870300293, 0.7214999794960022, 1.958299994468689, 1.954800009727478, 1.9541000127792358, 1.9531999826431274, 1.9527000188827515, 1.9520000219345093, 1.9515000581741333, 1.951300024986267, 1.9507999420166016, 1.9503999948501587, 1.9503999948501587, 1.9493000507354736, 1.9492000341415405, 1.9484000205993652, 1.9478000402450562, 1.9474999904632568, 1.9456000328063965, 1.944000005722046, 1.9429999589920044, 1.9416999816894531, 1.9416999816894531, 1.941499948501587, 1.940999984741211, 1.9384000301361084, 1.937399983406067, 1.937399983406067, 1.9365999698638916, 1.9357000589370728, 1.9350999593734741, 1.9349000453948975, 1.9257999658584595, 1.924399971961975, 1.9148000478744507, 1.4976999759674072, 1.2591999769210815, 1.195199966430664]}, \"token.table\": {\"Topic\": [3, 4, 2, 2, 6, 4, 1, 4, 6, 2, 2, 6, 6, 4, 2, 4, 3, 4, 5, 1, 6, 2, 6, 4, 4, 5, 1, 2, 1, 5, 6, 6, 1, 1, 4, 6, 2, 4, 1, 2, 4, 1, 6, 4, 2, 3, 1, 2, 3, 4, 6, 2, 3, 1, 3, 4, 2, 3, 6, 2, 3, 2, 2, 3, 5, 1, 6, 5, 3, 2, 1, 4, 3, 4, 3, 2, 4, 2, 5, 1, 3, 2, 3, 1, 6, 4, 1, 6, 5, 5, 6, 1, 6, 5, 5, 6, 1, 3, 5, 4, 1, 4, 5, 5, 3, 5, 4, 4, 2, 6, 1, 3, 5, 5, 3, 6, 6, 1, 5, 6, 6, 2, 5, 6, 1, 5, 3, 5, 5, 1, 1, 4, 3, 2, 2, 6, 3, 5, 4, 3, 3, 1, 4, 6, 6, 6, 1, 2, 3, 5, 4, 1, 6, 2, 3, 1, 4, 4, 3, 6, 2, 3, 4, 6, 3, 5, 4, 2, 4, 5, 5, 4, 1, 4, 3, 5, 4, 3, 1, 3, 1, 4, 6, 1, 2, 5, 6, 2, 6, 4, 1, 5, 1, 4, 3, 5, 3, 2, 2, 6, 5, 3, 2, 5, 3, 2, 1, 3, 2, 2, 5, 2, 5, 4, 2, 5, 6, 1, 3, 4, 6, 6, 1, 6, 3, 1, 5, 3, 6, 1, 6, 4], \"Freq\": [0.9751786589622498, 0.9661792516708374, 0.9698400497436523, 0.9686189293861389, 0.9860637784004211, 0.9900194406509399, 0.9671740531921387, 0.35889971256256104, 0.6199176907539368, 0.9683966040611267, 0.9691027998924255, 0.0312613807618618, 0.9748217463493347, 0.9901003837585449, 0.9891539216041565, 0.9784748554229736, 0.9946736693382263, 0.9809771776199341, 0.9878677725791931, 0.9684957265853882, 0.9865858554840088, 0.6077924370765686, 0.39327743649482727, 0.9789727330207825, 0.9750458598136902, 0.9913023710250854, 0.9902446866035461, 0.9895792007446289, 0.9665572643280029, 0.9918851256370544, 0.9835342764854431, 0.9897720813751221, 0.9862717390060425, 0.9814833998680115, 0.9588507413864136, 0.9704554080963135, 0.994707465171814, 0.9935524463653564, 0.05446813628077507, 0.9259583353996277, 0.9615306258201599, 0.9938771724700928, 0.9897934794425964, 0.9726895689964294, 0.9756983518600464, 0.9645280241966248, 0.9968644380569458, 0.9778622388839722, 0.25605151057243347, 0.7468169331550598, 0.9880873560905457, 0.9677366018295288, 0.9664548635482788, 0.3431711196899414, 0.6482121348381042, 0.9736737608909607, 0.9921973347663879, 0.9776574969291687, 0.9777480363845825, 0.9921098947525024, 0.9789929986000061, 0.9975594282150269, 0.9953033328056335, 0.9801559448242188, 0.9887589812278748, 0.9658063054084778, 0.9905785322189331, 0.9789248108863831, 0.972111701965332, 0.987457275390625, 0.9670530557632446, 0.9809523224830627, 0.20268380641937256, 0.7923094630241394, 0.9561662673950195, 0.9731618762016296, 0.9724655747413635, 0.977425754070282, 0.9833992719650269, 0.979437530040741, 0.9810432195663452, 0.9968253970146179, 0.9796584844589233, 0.9842862486839294, 0.9865798354148865, 0.9773239493370056, 0.9837152361869812, 0.980725884437561, 0.9933710694313049, 0.9832087755203247, 0.9762099981307983, 0.9891706109046936, 0.9633859992027283, 0.9843412041664124, 0.961656391620636, 0.9679172039031982, 0.9905955195426941, 0.9797583818435669, 0.9953355193138123, 0.9936066269874573, 0.2090674638748169, 0.6842207908630371, 0.07602453231811523, 0.9828099608421326, 0.9899811744689941, 0.9780610203742981, 0.9726895689964294, 0.9914645552635193, 0.9836563467979431, 0.9413240551948547, 0.9879420399665833, 0.9772157073020935, 0.9672259092330933, 0.9661135077476501, 0.5346125364303589, 0.45823928713798523, 0.9706152081489563, 0.989952802658081, 0.9755127429962158, 0.975723147392273, 0.9773602485656738, 0.5315237641334534, 0.4626225531101227, 0.9885420799255371, 0.9707098603248596, 0.9682175517082214, 0.9782618284225464, 0.9569053053855896, 0.9679042100906372, 0.9893404841423035, 0.5785204768180847, 0.4172934591770172, 0.9977673888206482, 0.9787513613700867, 0.9745535254478455, 0.9934669733047485, 0.9797727465629578, 0.9594837427139282, 0.9928759932518005, 0.9953429102897644, 0.9694101214408875, 0.9712826013565063, 0.9846316576004028, 0.9814974665641785, 0.9750692248344421, 0.989611029624939, 0.44712400436401367, 0.1759176403284073, 0.2565465569496155, 0.11727842688560486, 0.9905039072036743, 0.9437677264213562, 0.04103337973356247, 0.9773097038269043, 0.9755361676216125, 0.9689385294914246, 0.9706782102584839, 0.9869653582572937, 0.9621224999427795, 0.9808304309844971, 0.4354020059108734, 0.23288944363594055, 0.24301506578922272, 0.09113065153360367, 0.9971529245376587, 0.9578235745429993, 0.9620239734649658, 0.9915477633476257, 0.9750065207481384, 0.9873470664024353, 0.9590245485305786, 0.9805078506469727, 0.9920265078544617, 0.9853358268737793, 0.991236686706543, 0.9856491684913635, 0.9801449775695801, 0.9841519594192505, 0.4254164397716522, 0.5563138127326965, 0.12275217473506927, 0.38053175806999207, 0.4910086989402771, 0.9813945889472961, 0.600953996181488, 0.3052464723587036, 0.08585057407617569, 0.9884514212608337, 0.9758996367454529, 0.9711567163467407, 0.9849218726158142, 0.9876082539558411, 0.9863163232803345, 0.9955523014068604, 0.4001125991344452, 0.5932703614234924, 0.9719848036766052, 0.9698710441589355, 0.9621531367301941, 0.9621574878692627, 0.9879748225212097, 0.9769395589828491, 0.9661113619804382, 0.9794182777404785, 0.9650205373764038, 0.9898067712783813, 0.9883497357368469, 0.9788646101951599, 0.9953375458717346, 0.3293902575969696, 0.6587805151939392, 0.9745208024978638, 0.987198531627655, 0.9656314253807068, 0.9756163954734802, 0.974456787109375, 0.9707808494567871, 0.9829524159431458, 0.9767995476722717, 0.987372875213623, 0.9883394241333008, 0.959608256816864, 0.9638941884040833, 0.9686034321784973, 0.9935487508773804, 0.9827102422714233, 0.9764641523361206, 0.9761694073677063, 0.9493773579597473, 0.9898270964622498, 0.9947604537010193, 0.9688403010368347], \"Term\": [\"abrigo\", \"abril\", \"acolhedor\", \"acolhimento\", \"actividades\", \"adquirir\", \"agenda\", \"agora\", \"agora\", \"agua\", \"ajude\", \"ajude\", \"ajudem\", \"album\", \"aldeia\", \"alunos\", \"amigos\", \"amor\", \"angariacao_fundos\", \"angariar\", \"angariar_fundos\", \"animais\", \"animais\", \"apresentar\", \"arrabalde\", \"arte\", \"artes\", \"associacao\", \"atletas\", \"bairro\", \"banda\", \"bois\", \"cabo\", \"cabo_verde\", \"caderno\", \"canga\", \"casa\", \"cd\", \"centro\", \"centro\", \"chegou\", \"cidade\", \"cinema\", \"cognitiva\", \"combater\", \"comprar\", \"comunidade\", \"condicoes\", \"conseguir\", \"conseguir\", \"consiste\", \"construcao\", \"construir\", \"contamos\", \"contamos\", \"contentores\", \"continuar\", \"coracao\", \"creche\", \"criacao\", \"crianca\", \"criancas\", \"criar\", \"cultura\", \"cultural\", \"curso\", \"curta_metragem\", \"danca\", \"deficiencia\", \"dignidade\", \"dinheiro\", \"disco\", \"edicao\", \"edicao\", \"editora\", \"educacao\", \"enquanto\", \"equipar\", \"escola\", \"escolar\", \"escolhe\", \"espaco\", \"espera\", \"estar\", \"evento\", \"exposicao\", \"falta\", \"familia\", \"familias\", \"felicidade\", \"feliz\", \"festival\", \"filhas\", \"filhos\", \"filme\", \"financiamento\", \"formacao\", \"fundos\", \"futuro\", \"gravacao\", \"grupo\", \"grupo\", \"grupo\", \"ha\", \"historia\", \"idade\", \"idosa\", \"idosos\", \"ilha\", \"ima\", \"industrial\", \"infantil\", \"instituicao\", \"interior\", \"internacional\", \"internacional\", \"inverno\", \"ir\", \"isolamento\", \"janela\", \"joao\", \"jovens\", \"jovens\", \"junta\", \"juntos\", \"la\", \"lar\", \"las\", \"lavandaria\", \"levar\", \"lisboa\", \"lisboa\", \"livro\", \"luta\", \"mae\", \"maes\", \"maquina\", \"marca\", \"material\", \"missao\", \"mocambique\", \"moda\", \"momento\", \"monte\", \"movimento\", \"mulheres\", \"mundo\", \"mundo\", \"mundo\", \"mundo\", \"musica\", \"nacional\", \"nacional\", \"natal\", \"necessita\", \"nivel\", \"noite\", \"nova\", \"novas\", \"novos\", \"objectivo\", \"objectivo\", \"objectivo\", \"objectivo\", \"objetivo\", \"obra\", \"ola\", \"pais\", \"passo\", \"pecas\", \"plataforma\", \"poesia\", \"populacao\", \"porto\", \"portugues\", \"portuguesa\", \"pos\", \"possivel\", \"precisa\", \"precisa\", \"precisamos\", \"precisamos\", \"precisamos\", \"preciso\", \"pretende\", \"pretende\", \"pretende\", \"pretendemos\", \"procura\", \"profissional\", \"projetos\", \"proximo\", \"quer\", \"queremos\", \"realizar\", \"realizar\", \"rede\", \"refugiados\", \"regiao\", \"residencia\", \"roupa\", \"rua\", \"rumo\", \"sala\", \"sangue\", \"santiago\", \"saude\", \"sentido\", \"situacao\", \"social\", \"social\", \"sociedade\", \"solidaria\", \"solidario\", \"sustentavel\", \"teatro\", \"tempo\", \"terminar\", \"terra\", \"tornar\", \"trabalho\", \"tres\", \"varias\", \"vermelha\", \"vez\", \"viagem\", \"video\", \"viver\", \"voltar\", \"voluntariado\", \"vossa\", \"vosso\"]}, \"R\": 30, \"lambda.step\": 0.01, \"plot.opts\": {\"xlab\": \"PC1\", \"ylab\": \"PC2\"}, \"topic.order\": [6, 2, 5, 1, 3, 4]};\n",
       "\n",
       "function LDAvis_load_lib(url, callback){\n",
       "  var s = document.createElement('script');\n",
       "  s.src = url;\n",
       "  s.async = true;\n",
       "  s.onreadystatechange = s.onload = callback;\n",
       "  s.onerror = function(){console.warn(\"failed to load library \" + url);};\n",
       "  document.getElementsByTagName(\"head\")[0].appendChild(s);\n",
       "}\n",
       "\n",
       "if(typeof(LDAvis) !== \"undefined\"){\n",
       "   // already loaded: just create the visualization\n",
       "   !function(LDAvis){\n",
       "       new LDAvis(\"#\" + \"ldavis_el333811400798928749684766039702\", ldavis_el333811400798928749684766039702_data);\n",
       "   }(LDAvis);\n",
       "}else if(typeof define === \"function\" && define.amd){\n",
       "   // require.js is available: use it to load d3/LDAvis\n",
       "   require.config({paths: {d3: \"https://cdnjs.cloudflare.com/ajax/libs/d3/3.5.5/d3.min\"}});\n",
       "   require([\"d3\"], function(d3){\n",
       "      window.d3 = d3;\n",
       "      LDAvis_load_lib(\"https://cdn.rawgit.com/bmabey/pyLDAvis/files/ldavis.v1.0.0.js\", function(){\n",
       "        new LDAvis(\"#\" + \"ldavis_el333811400798928749684766039702\", ldavis_el333811400798928749684766039702_data);\n",
       "      });\n",
       "    });\n",
       "}else{\n",
       "    // require.js not available: dynamically load d3 & LDAvis\n",
       "    LDAvis_load_lib(\"https://cdnjs.cloudflare.com/ajax/libs/d3/3.5.5/d3.min.js\", function(){\n",
       "         LDAvis_load_lib(\"https://cdn.rawgit.com/bmabey/pyLDAvis/files/ldavis.v1.0.0.js\", function(){\n",
       "                 new LDAvis(\"#\" + \"ldavis_el333811400798928749684766039702\", ldavis_el333811400798928749684766039702_data);\n",
       "            })\n",
       "         });\n",
       "}\n",
       "</script>"
      ],
      "text/plain": [
       "<IPython.core.display.HTML object>"
      ]
     },
     "execution_count": 15,
     "metadata": {},
     "output_type": "execute_result"
    }
   ],
   "source": [
    "\n",
    "n_components=6\n",
    "lda_file = \"{}lda-projects-{}.sav\".format(settings.MODEL_PATH,n_components)\n",
    "df[\"title_description\"] = df[\"TITLE\"].fillna(\"\") + \" \" + df[\"PRJ_SUMMARY\"].fillna(\"\")\n",
    "\n",
    "dskc_clean.topic_modeling(df,\n",
    "                          \"title_description\", \n",
    "                          modify=False,\n",
    "                          force_train=True,\n",
    "                          n_components=n_components,\n",
    "                          search=True,\n",
    "                          visualize=True,\n",
    "                          path=lda_file,\n",
    "                          stop_words=get_stop_words())"
   ]
  }
 ],
 "metadata": {
  "kernelspec": {
   "display_name": "Python 3",
   "language": "python",
   "name": "python3"
  },
  "language_info": {
   "codemirror_mode": {
    "name": "ipython",
    "version": 3
   },
   "file_extension": ".py",
   "mimetype": "text/x-python",
   "name": "python",
   "nbconvert_exporter": "python",
   "pygments_lexer": "ipython3",
   "version": "3.6.9"
  },
  "pycharm": {
   "stem_cell": {
    "cell_type": "raw",
    "metadata": {
     "collapsed": false
    },
    "source": []
   }
  }
 },
 "nbformat": 4,
 "nbformat_minor": 4
}
