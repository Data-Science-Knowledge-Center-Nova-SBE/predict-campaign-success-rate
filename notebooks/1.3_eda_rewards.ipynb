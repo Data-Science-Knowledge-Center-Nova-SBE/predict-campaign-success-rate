{
 "cells": [
  {
   "cell_type": "markdown",
   "metadata": {},
   "source": [
    "# PPL \n",
    "\n",
    "# Exploratory Data Analysis - Rewards\n",
    "\n",
    "<br>\n",
    "<hr>\n",
    "\n",
    "<h1 style=\"color:red\"> Index</h1>\n",
    "\n",
    "<br>\n",
    "\n",
    "### 0. Setup\n",
    "\n",
    "### 1. Clean\n",
    "\n",
    "### 2. Exploration\n",
    "\n",
    "### 3. Visualization\n",
    "\n",
    "\n",
    "<hr>\n",
    "<br><br><br>"
   ]
  },
  {
   "cell_type": "markdown",
   "metadata": {},
   "source": [
    "# 0. Setup"
   ]
  },
  {
   "cell_type": "code",
   "execution_count": 4,
   "metadata": {},
   "outputs": [
    {
     "data": {
      "text/html": [
       "<style>.container { width:100% !important; }</style>"
      ],
      "text/plain": [
       "<IPython.core.display.HTML object>"
      ]
     },
     "metadata": {},
     "output_type": "display_data"
    },
    {
     "name": "stdout",
     "output_type": "stream",
     "text": [
      "The autoreload extension is already loaded. To reload it, use:\n",
      "  %reload_ext autoreload\n"
     ]
    }
   ],
   "source": [
    "# set root folder (needed for imports)\n",
    "import os\n",
    "while not os.getcwd().endswith(\"ppl-model\"):\n",
    "    os.chdir(\"..\")\n",
    "\n",
    "# ignore warning on jupyter\n",
    "import warnings\n",
    "warnings.filterwarnings('ignore')\n",
    "\n",
    "\n",
    "# larger page width\n",
    "from IPython.core.display import display, HTML\n",
    "display(HTML(\"<style>.container { width:100% !important; }</style>\"))\n",
    "\n",
    "\n",
    "# detect changes on folders\n",
    "%load_ext autoreload\n",
    "%autoreload 2\n",
    "\n",
    "\n",
    "# my imports\n",
    "import settings\n",
    "from src.data_curation.datasets.rewards.clean import clean, get_stop_words\n",
    "from dskc import dskc_clean\n",
    "from dskc import dskc_exploration \n",
    "from dskc import dskc_graphs\n",
    "\n",
    "\n",
    "# third party imports\n",
    "import pandas as pd"
   ]
  },
  {
   "cell_type": "markdown",
   "metadata": {},
   "source": [
    "<br><br>\n",
    "\n",
    "# 1. Clean "
   ]
  },
  {
   "cell_type": "code",
   "execution_count": 5,
   "metadata": {},
   "outputs": [
    {
     "data": {
      "text/html": [
       "<div>\n",
       "<style scoped>\n",
       "    .dataframe tbody tr th:only-of-type {\n",
       "        vertical-align: middle;\n",
       "    }\n",
       "\n",
       "    .dataframe tbody tr th {\n",
       "        vertical-align: top;\n",
       "    }\n",
       "\n",
       "    .dataframe thead th {\n",
       "        text-align: right;\n",
       "    }\n",
       "</style>\n",
       "<table border=\"1\" class=\"dataframe\">\n",
       "  <thead>\n",
       "    <tr style=\"text-align: right;\">\n",
       "      <th></th>\n",
       "      <th>PROJECT_ID</th>\n",
       "      <th>REWARD_ID</th>\n",
       "      <th>AMOUNT</th>\n",
       "      <th>TITLE</th>\n",
       "      <th>DESCRIPTION</th>\n",
       "    </tr>\n",
       "  </thead>\n",
       "  <tbody>\n",
       "    <tr>\n",
       "      <th>0</th>\n",
       "      <td>1017</td>\n",
       "      <td>18622</td>\n",
       "      <td>10</td>\n",
       "      <td>NaN</td>\n",
       "      <td>Um exemplar do livro</td>\n",
       "    </tr>\n",
       "    <tr>\n",
       "      <th>1</th>\n",
       "      <td>1017</td>\n",
       "      <td>18623</td>\n",
       "      <td>20</td>\n",
       "      <td>NaN</td>\n",
       "      <td>Opção 1: PDF do conto (sem ilustrações) + 1 ex...</td>\n",
       "    </tr>\n",
       "    <tr>\n",
       "      <th>2</th>\n",
       "      <td>1017</td>\n",
       "      <td>18624</td>\n",
       "      <td>30</td>\n",
       "      <td>NaN</td>\n",
       "      <td>Opção 1: PDF do conto (sem ilustrações) + 1 ed...</td>\n",
       "    </tr>\n",
       "    <tr>\n",
       "      <th>3</th>\n",
       "      <td>1017</td>\n",
       "      <td>18625</td>\n",
       "      <td>50</td>\n",
       "      <td>NaN</td>\n",
       "      <td>PDF do conto (sem ilustrações) + 1 edição de l...</td>\n",
       "    </tr>\n",
       "    <tr>\n",
       "      <th>4</th>\n",
       "      <td>1017</td>\n",
       "      <td>18626</td>\n",
       "      <td>250</td>\n",
       "      <td>NaN</td>\n",
       "      <td>PDF do conto (sem ilustrações) + 1 edição de l...</td>\n",
       "    </tr>\n",
       "  </tbody>\n",
       "</table>\n",
       "</div>"
      ],
      "text/plain": [
       "   PROJECT_ID  REWARD_ID  AMOUNT TITLE                                        DESCRIPTION\n",
       "0        1017      18622      10   NaN                               Um exemplar do livro\n",
       "1        1017      18623      20   NaN  Opção 1: PDF do conto (sem ilustrações) + 1 ex...\n",
       "2        1017      18624      30   NaN  Opção 1: PDF do conto (sem ilustrações) + 1 ed...\n",
       "3        1017      18625      50   NaN  PDF do conto (sem ilustrações) + 1 edição de l...\n",
       "4        1017      18626     250   NaN  PDF do conto (sem ilustrações) + 1 edição de l..."
      ]
     },
     "execution_count": 5,
     "metadata": {},
     "output_type": "execute_result"
    }
   ],
   "source": [
    "df = pd.read_csv(settings.DATASET_REWARDS_PATH, index_col=0)\n",
    "#df = clean(df)\n",
    "df.head()"
   ]
  },
  {
   "cell_type": "markdown",
   "metadata": {},
   "source": [
    "<br><br>\n",
    "\n",
    "# 2. Exploration"
   ]
  },
  {
   "cell_type": "code",
   "execution_count": 3,
   "metadata": {},
   "outputs": [
    {
     "name": "stdout",
     "output_type": "stream",
     "text": [
      "\n",
      "\n",
      "\n",
      " _____     ______     ______   ______\n",
      "/\\  __-.  /\\  __ \\   /\\__  _\\ /\\  __ \\\n",
      "\\ \\ \\/\\ \\ \\ \\  __ \\  \\/_/\\ \\/ \\ \\  __ \\\n",
      " \\ \\____-  \\ \\_\\ \\_\\    \\ \\_\\  \\ \\_\\ \\_\\\n",
      "  \\/____/   \\/_/\\/_/     \\/_/   \\/_/\\/_/\n",
      "\n",
      " ______     __  __     ______   __         ______     ______     ______     ______   __     ______     __   __\n",
      "/\\  ___\\   /\\_\\_\\_\\   /\\  == \\ /\\ \\       /\\  __ \\   /\\  == \\   /\\  __ \\   /\\__  _\\ /\\ \\   /\\  __ \\   /\\ \"-.\\ \\\n",
      "\\ \\  __\\   \\/_/\\_\\/_  \\ \\  _-/ \\ \\ \\____  \\ \\ \\/\\ \\  \\ \\  __<   \\ \\  __ \\  \\/_/\\ \\/ \\ \\ \\  \\ \\ \\/\\ \\  \\ \\ \\-.  \\\n",
      " \\ \\_____\\   /\\_\\/\\_\\  \\ \\_\\    \\ \\_____\\  \\ \\_____\\  \\ \\_\\ \\_\\  \\ \\_\\ \\_\\    \\ \\_\\  \\ \\_\\  \\ \\_____\\  \\ \\_\\\\\"\\_\\\n",
      "  \\/_____/   \\/_/\\/_/   \\/_/     \\/_____/   \\/_____/   \\/_/ /_/   \\/_/\\/_/     \\/_/   \\/_/   \\/_____/   \\/_/ \\/_/\n",
      "\n",
      "\n",
      "\n",
      "\n",
      "======================================================================================================================================================\n",
      "First 5 rows \n",
      "======================================================================================================================================================\n",
      "\n",
      "(transpose view)\n",
      "\n",
      "                 0      1      2      3      4\n",
      "-----------  -----  -----  -----  -----  -----\n",
      "PROJECT_ID    1017   1017   1017   1017   1017\n",
      "REWARD_ID    18622  18623  18624  18625  18626\n",
      "AMOUNT          10     20     30     50    250\n",
      "TITLE          nan    nan    nan    nan    nan\n",
      "DESCRIPTION    nan    nan    nan    nan    nan\n",
      "\n",
      "\n",
      "\n",
      "\n",
      "\n",
      "======================================================================================================================================================\n",
      "Samples\n",
      "======================================================================================================================================================\n",
      "\n",
      "24,204\n",
      "\n",
      "\n",
      "\n",
      "\n",
      "\n",
      "======================================================================================================================================================\n",
      "Columns\n",
      "======================================================================================================================================================\n",
      "\n",
      "5 columns\n",
      "\n"
     ]
    },
    {
     "data": {
      "text/markdown": [
       "| Column      | Type   |   Distinct values | Values                                                        |   % Missing |\n",
       "|-------------|--------|-------------------|---------------------------------------------------------------|-------------|\n",
       "| PROJECT_ID  | int64  |              6026 | [1017, 1018, 1020, 1022, 1023, 1024, 1025, '...']             |        0    |\n",
       "| REWARD_ID   | int64  |             24204 | [18622, 18623, 18624, 18625, 18626, 18639, '...']             |        0    |\n",
       "| AMOUNT      | int64  |               204 | [10, 20, 30, 50, 250, 5, 40, 60, 100, 15, 80, 25, 200, '...'] |        0    |\n",
       "| TITLE       | object |             13827 | [nan, '...']                                                  |       30.43 |\n",
       "| DESCRIPTION | object |             23315 | ['Um exemplar do livro', '...']                               |        0.05 |"
      ],
      "text/plain": [
       "<IPython.core.display.Markdown object>"
      ]
     },
     "metadata": {},
     "output_type": "display_data"
    },
    {
     "name": "stdout",
     "output_type": "stream",
     "text": [
      "\n",
      "\n",
      "\n",
      "\n",
      "\n",
      "======================================================================================================================================================\n",
      "Pearson's Correlation\n",
      "======================================================================================================================================================\n",
      "\n",
      "\n",
      "(graph)\n",
      "\n",
      "Columns with values no higher than 0.05: \n",
      "- AMOUNT\n",
      "\n",
      "\n",
      "\n",
      "\n",
      "\n",
      "\n",
      "\n",
      "\n",
      "\n",
      "\n"
     ]
    }
   ],
   "source": [
    "dskc_exploration.basic_exploration(df)"
   ]
  },
  {
   "cell_type": "markdown",
   "metadata": {},
   "source": [
    "# 3. Visualization"
   ]
  },
  {
   "cell_type": "markdown",
   "metadata": {},
   "source": [
    "## 3.1 Graphs"
   ]
  },
  {
   "cell_type": "code",
   "execution_count": 31,
   "metadata": {},
   "outputs": [
    {
     "data": {
      "application/vnd.jupyter.widget-view+json": {
       "model_id": "f8fa2b349a574f5586452082d4e2fcb4",
       "version_major": 2,
       "version_minor": 0
      },
      "text/plain": [
       "Dropdown(description='Column:', options=('0. DESCRIPTION_topic_1', '1. DESCRIPTION_topic_2', '2. DESCRIPTION_t…"
      ]
     },
     "metadata": {},
     "output_type": "display_data"
    }
   ],
   "source": [
    "dskc_graphs.all_graphs(df, gui=True)"
   ]
  },
  {
   "cell_type": "markdown",
   "metadata": {},
   "source": [
    "## 3.2 Topic Modeling"
   ]
  },
  {
   "cell_type": "code",
   "execution_count": 9,
   "metadata": {},
   "outputs": [
    {
     "name": "stdout",
     "output_type": "stream",
     "text": [
      "saving model... "
     ]
    },
    {
     "data": {
      "text/markdown": [
       "|   Num Topics |   Coherence |\n",
       "|--------------|-------------|\n",
       "|            2 |        0.35 |\n",
       "|            3 |        0.41 |\n",
       "|            4 |        0.41 |\n",
       "|            5 |        0.41 |\n",
       "|            6 |        0.45 |\n",
       "|            7 |        0.42 |\n",
       "|            8 |        0.4  |\n",
       "|            9 |        0.47 |\n",
       "|           10 |        0.47 |\n",
       "|           11 |        0.46 |\n",
       "|           12 |        0.45 |\n",
       "|           13 |        0.44 |\n",
       "|           14 |        0.43 |\n",
       "|           15 |        0.46 |\n",
       "|           16 |        0.44 |\n",
       "|           17 |        0.45 |\n",
       "|           18 |        0.46 |\n",
       "|           19 |        0.46 |"
      ],
      "text/plain": [
       "<IPython.core.display.Markdown object>"
      ]
     },
     "metadata": {},
     "output_type": "display_data"
    },
    {
     "data": {
      "image/png": "[encoded data removed]",
      "text/plain": [
       "<Figure size 432x288 with 1 Axes>"
      ]
     },
     "metadata": {
      "needs_background": "light"
     },
     "output_type": "display_data"
    },
    {
     "data": {
      "text/html": [
       "\n",
       "<link rel=\"stylesheet\" type=\"text/css\" href=\"https://cdn.rawgit.com/bmabey/pyLDAvis/files/ldavis.v1.0.0.css\">\n",
       "\n",
       "\n",
       "<div id=\"ldavis_el426391402056682930322458813010\"></div>\n",
       "<script type=\"text/javascript\">\n",
       "\n",
       "var ldavis_el426391402056682930322458813010_data = {\"mdsDat\": {\"x\": [0.31729289940531263, -0.12062033063602291, -0.15678618995889498, -0.010008743816369105, -0.02987763499402545], \"y\": [0.02065110522223284, -0.2726630500478698, 0.24815604423228624, -0.021063602200636508, 0.02491950279398747], \"topics\": [1, 2, 3, 4, 5], \"cluster\": [1, 1, 1, 1, 1], \"Freq\": [23.056705474853516, 22.13518524169922, 18.961009979248047, 18.721406936645508, 17.12569236755371]}, \"tinfo\": {\"Term\": [\"livro\", \"ginasio\", \"shirt\", \"facebook\", \"mensalidade\", \"cd\", \"autografado\", \"redes_sociais\", \"seguro\", \"video\", \"agradecimentos\", \"casa\", \"tshirt\", \"poster\", \"filme\", \"convite\", \"lisboa\", \"exemplar\", \"email\", \"mensagem\", \"concerto\", \"livros\", \"vale\", \"workshop\", \"toalha\", \"bilhete\", \"creditos\", \"foto\", \"album\", \"fotografia\", \"shirt\", \"redes_sociais\", \"mensagem\", \"foto\", \"fotografia\", \"criancas\", \"porta_chaves\", \"kit\", \"associacao\", \"edicao\", \"evento\", \"donativo\", \"desenho\", \"fotografias\", \"certificado\", \"doacao\", \"carta\", \"autografada\", \"agradecer\", \"grupo\", \"garrafa\", \"logo\", \"saco_pano\", \"mural\", \"gratis\", \"noite\", \"passeio\", \"queremos\", \"exclusiva\", \"diploma\", \"vouchers\", \"arvores\", \"ginasio\", \"facebook\", \"video\", \"casa\", \"lisboa\", \"creditos\", \"pack\", \"festival\", \"assinado\", \"porto\", \"logotipo\", \"espaco\", \"website\", \"mencao\", \"exclusivo\", \"instagram\", \"aula\", \"visita_guiada\", \"coracao\", \"participantes\", \"impresso\", \"arte\", \"estadia\", \"shaker\", \"cafe\", \"gratuito\", \"vales\", \"amor\", \"instituicao\", \"missao\", \"toalha\", \"shaker_ginasio\", \"livro\", \"agradecimentos\", \"mensalidade\", \"convite\", \"exemplar\", \"email\", \"livros\", \"workshop\", \"voucher\", \"sessao\", \"historia\", \"musica\", \"camisola\", \"obra\", \"estreia\", \"autografados\", \"postais\", \"exemplares\", \"loja\", \"obtenha\", \"inauguracao\", \"equipamento\", \"futuro\", \"caderno\", \"agua\", \"venda\", \"papel\", \"produto\", \"autora\", \"poemas\", \"shaker_ginasio\", \"tshirt\", \"filme\", \"vale\", \"imagem\", \"data\", \"cartaz\", \"caneta\", \"almoco\", \"jantar\", \"seguro\", \"autor\", \"amigos\", \"familia\", \"mundo\", \"socio\", \"anual\", \"marcador\", \"caneca\", \"visita\", \"noites\", \"quinta\", \"dvd\", \"cabaz\", \"original\", \"parceiro\", \"quadro\", \"realizado\", \"escrito\", \"presente\", \"numero\", \"portugues\", \"shaker_ginasio\", \"cd\", \"autografado\", \"poster\", \"concerto\", \"bilhete\", \"album\", \"participacao\", \"eventos\", \"fotos\", \"dedicatoria\", \"clube\", \"bilhetes\", \"jogo\", \"apresentacao\", \"sorteio\", \"espetaculo\", \"reconhecimento\", \"marca\", \"tamanho\", \"terra\", \"festa\", \"divulgacao\", \"banda\", \"videos\", \"ilustracao\", \"fisico\", \"bebida\", \"shirts\", \"saco\", \"gratuita\", \"espetaculos\"], \"Freq\": [3290.0, 3481.0, 2093.0, 1751.0, 1571.0, 1450.0, 1229.0, 1454.0, 1116.0, 1134.0, 983.0, 1062.0, 911.0, 814.0, 824.0, 822.0, 859.0, 695.0, 665.0, 742.0, 612.0, 638.0, 619.0, 620.0, 782.0, 574.0, 672.0, 677.0, 545.0, 657.0, 2092.391845703125, 1454.1700439453125, 742.1660766601562, 676.3135375976562, 656.7776489257812, 602.2494506835938, 576.0795288085938, 533.3119506835938, 493.0628356933594, 484.92230224609375, 476.68109130859375, 469.119873046875, 407.5849914550781, 396.9688415527344, 391.9222106933594, 334.763671875, 297.4819641113281, 286.5783386230469, 282.85931396484375, 283.68463134765625, 279.1741027832031, 263.1556701660156, 261.2896728515625, 253.96400451660156, 238.32269287109375, 232.62168884277344, 224.59461975097656, 198.55384826660156, 191.41427612304688, 175.94454956054688, 222.71731567382812, 231.0236358642578, 3479.981689453125, 1750.7393798828125, 1133.310302734375, 1062.147705078125, 858.8716430664062, 671.9402465820312, 576.3285522460938, 501.0495300292969, 452.4925537109375, 414.44287109375, 394.13189697265625, 370.6308898925781, 333.076904296875, 321.3704528808594, 282.7861633300781, 276.01373291015625, 261.10479736328125, 258.3282775878906, 245.3872528076172, 218.84507751464844, 216.85400390625, 218.3626708984375, 206.5565185546875, 459.0982971191406, 204.936767578125, 203.81637573242188, 280.3636474609375, 200.76524353027344, 190.47161865234375, 196.2819366455078, 756.1651611328125, 1252.156982421875, 3289.34619140625, 982.5331420898438, 1570.041748046875, 821.800048828125, 694.559326171875, 664.4727783203125, 637.2389526367188, 619.23681640625, 529.1360473632812, 416.09661865234375, 383.5976257324219, 293.9617919921875, 270.8080139160156, 265.9267883300781, 262.04339599609375, 261.2166442871094, 255.1405487060547, 243.24685668945312, 242.40382385253906, 214.2401123046875, 208.0199737548828, 201.7656707763672, 195.4830780029297, 206.80560302734375, 192.35162353515625, 187.42941284179688, 181.23321533203125, 180.4095458984375, 178.64317321777344, 192.11318969726562, 429.9443359375, 910.6792602539062, 824.1478881835938, 618.6054077148438, 487.0970153808594, 430.77716064453125, 420.5412902832031, 415.4423828125, 349.0408935546875, 340.6717834472656, 1113.19189453125, 296.042236328125, 290.511962890625, 282.85198974609375, 273.8974609375, 268.23260498046875, 272.05517578125, 261.15716552734375, 256.7132873535156, 251.63902282714844, 235.74349975585938, 233.02130126953125, 192.12237548828125, 188.3364715576172, 181.8167266845703, 163.60450744628906, 153.90155029296875, 147.10028076171875, 144.38629150390625, 139.62005615234375, 141.6502227783203, 140.85140991210938, 264.81207275390625, 1449.5462646484375, 1228.8267822265625, 813.4661254882812, 611.9201049804688, 573.40576171875, 544.8712158203125, 543.7529296875, 540.8489379882812, 488.04766845703125, 446.8547668457031, 441.7848205566406, 432.3618469238281, 364.95843505859375, 357.72601318359375, 349.6718444824219, 291.9185791015625, 294.1529541015625, 271.215087890625, 264.1534423828125, 269.80474853515625, 255.555908203125, 247.2869415283203, 243.03707885742188, 242.24310302734375, 249.10458374023438, 222.72891235351562, 231.66134643554688, 215.36175537109375, 207.2864532470703, 204.69082641601562, 220.6560821533203], \"Total\": [3290.0, 3481.0, 2093.0, 1751.0, 1571.0, 1450.0, 1229.0, 1454.0, 1116.0, 1134.0, 983.0, 1062.0, 911.0, 814.0, 824.0, 822.0, 859.0, 695.0, 665.0, 742.0, 612.0, 638.0, 619.0, 620.0, 782.0, 574.0, 672.0, 677.0, 545.0, 657.0, 2093.177978515625, 1454.9591064453125, 742.956298828125, 677.0978393554688, 657.5623168945312, 603.0422973632812, 576.8684692382812, 534.1083374023438, 493.8479309082031, 485.71368408203125, 477.4653625488281, 469.91387939453125, 408.37799072265625, 397.7571105957031, 392.7134094238281, 335.5628967285156, 298.2685546875, 287.3686828613281, 283.65228271484375, 284.4814453125, 279.96966552734375, 263.94854736328125, 262.0824890136719, 254.76756286621094, 239.11776733398438, 233.4300079345703, 225.39129638671875, 199.36029052734375, 192.21151733398438, 176.73239135742188, 223.80401611328125, 252.52108764648438, 3481.20654296875, 1751.5234375, 1134.09716796875, 1062.94091796875, 859.6702270507812, 672.732421875, 577.114501953125, 501.8387756347656, 453.2895812988281, 415.2411804199219, 394.91632080078125, 371.4261474609375, 333.8690490722656, 322.1541748046875, 283.58367919921875, 276.8019104003906, 261.8907775878906, 259.1161804199219, 246.19046020507812, 219.6417236328125, 217.64479064941406, 219.1609649658203, 207.34820556640625, 460.86395263671875, 205.72808837890625, 204.6136474609375, 281.46087646484375, 201.56521606445312, 191.273193359375, 197.10888671875, 782.999755859375, 2224.154541015625, 3290.128173828125, 983.3212280273438, 1571.3956298828125, 822.5859375, 695.3409423828125, 665.2614135742188, 638.0202026367188, 620.0283813476562, 529.9325561523438, 416.8841247558594, 384.3887634277344, 294.7664794921875, 271.59796142578125, 266.7118225097656, 262.8308410644531, 262.0117492675781, 255.93458557128906, 244.0294189453125, 243.19021606445312, 215.0276641845703, 208.82138061523438, 202.57351684570312, 196.27610778808594, 207.6574249267578, 193.16067504882812, 188.24285888671875, 182.0198516845703, 181.1941680908203, 179.4235076904297, 192.9734649658203, 2224.154541015625, 911.5264282226562, 824.9388427734375, 619.4043579101562, 487.90423583984375, 431.57708740234375, 421.3388977050781, 416.2392272949219, 349.830810546875, 341.46185302734375, 1116.1380615234375, 296.8396911621094, 291.32049560546875, 283.64947509765625, 274.6933288574219, 269.02642822265625, 272.8681945800781, 261.9555969238281, 257.5103759765625, 252.42938232421875, 236.5453338623047, 233.82167053222656, 192.91439819335938, 189.12754821777344, 182.6120147705078, 164.41786193847656, 154.69793701171875, 147.9179229736328, 145.19287109375, 140.41749572753906, 142.46153259277344, 141.68284606933594, 2224.154541015625, 1450.314453125, 1229.597412109375, 814.2357177734375, 612.6864013671875, 574.1719360351562, 545.6356811523438, 544.5264282226562, 541.6334838867188, 488.8240661621094, 447.6283264160156, 442.564208984375, 433.1278381347656, 365.7321472167969, 358.50225830078125, 350.4460144042969, 292.6891174316406, 294.92938232421875, 271.9891052246094, 264.9366149902344, 270.62017822265625, 256.3446044921875, 248.05667114257812, 243.80149841308594, 243.0183868408203, 249.90359497070312, 223.49835205078125, 232.4720458984375, 216.1356964111328, 208.06484985351562, 205.4600830078125, 221.48899841308594], \"Category\": [\"Default\", \"Default\", \"Default\", \"Default\", \"Default\", \"Default\", \"Default\", \"Default\", \"Default\", \"Default\", \"Default\", \"Default\", \"Default\", \"Default\", \"Default\", \"Default\", \"Default\", \"Default\", \"Default\", \"Default\", \"Default\", \"Default\", \"Default\", \"Default\", \"Default\", \"Default\", \"Default\", \"Default\", \"Default\", \"Default\", \"Topic1\", \"Topic1\", \"Topic1\", \"Topic1\", \"Topic1\", \"Topic1\", \"Topic1\", \"Topic1\", \"Topic1\", \"Topic1\", \"Topic1\", \"Topic1\", \"Topic1\", \"Topic1\", \"Topic1\", \"Topic1\", \"Topic1\", \"Topic1\", \"Topic1\", \"Topic1\", \"Topic1\", \"Topic1\", \"Topic1\", \"Topic1\", \"Topic1\", \"Topic1\", \"Topic1\", \"Topic1\", \"Topic1\", \"Topic1\", \"Topic1\", \"Topic1\", \"Topic2\", \"Topic2\", \"Topic2\", \"Topic2\", \"Topic2\", \"Topic2\", \"Topic2\", \"Topic2\", \"Topic2\", \"Topic2\", \"Topic2\", \"Topic2\", \"Topic2\", \"Topic2\", \"Topic2\", \"Topic2\", \"Topic2\", \"Topic2\", \"Topic2\", \"Topic2\", \"Topic2\", \"Topic2\", \"Topic2\", \"Topic2\", \"Topic2\", \"Topic2\", \"Topic2\", \"Topic2\", \"Topic2\", \"Topic2\", \"Topic2\", \"Topic2\", \"Topic3\", \"Topic3\", \"Topic3\", \"Topic3\", \"Topic3\", \"Topic3\", \"Topic3\", \"Topic3\", \"Topic3\", \"Topic3\", \"Topic3\", \"Topic3\", \"Topic3\", \"Topic3\", \"Topic3\", \"Topic3\", \"Topic3\", \"Topic3\", \"Topic3\", \"Topic3\", \"Topic3\", \"Topic3\", \"Topic3\", \"Topic3\", \"Topic3\", \"Topic3\", \"Topic3\", \"Topic3\", \"Topic3\", \"Topic3\", \"Topic3\", \"Topic4\", \"Topic4\", \"Topic4\", \"Topic4\", \"Topic4\", \"Topic4\", \"Topic4\", \"Topic4\", \"Topic4\", \"Topic4\", \"Topic4\", \"Topic4\", \"Topic4\", \"Topic4\", \"Topic4\", \"Topic4\", \"Topic4\", \"Topic4\", \"Topic4\", \"Topic4\", \"Topic4\", \"Topic4\", \"Topic4\", \"Topic4\", \"Topic4\", \"Topic4\", \"Topic4\", \"Topic4\", \"Topic4\", \"Topic4\", \"Topic4\", \"Topic4\", \"Topic5\", \"Topic5\", \"Topic5\", \"Topic5\", \"Topic5\", \"Topic5\", \"Topic5\", \"Topic5\", \"Topic5\", \"Topic5\", \"Topic5\", \"Topic5\", \"Topic5\", \"Topic5\", \"Topic5\", \"Topic5\", \"Topic5\", \"Topic5\", \"Topic5\", \"Topic5\", \"Topic5\", \"Topic5\", \"Topic5\", \"Topic5\", \"Topic5\", \"Topic5\", \"Topic5\", \"Topic5\", \"Topic5\", \"Topic5\", \"Topic5\"], \"logprob\": [30.0, 29.0, 28.0, 27.0, 26.0, 25.0, 24.0, 23.0, 22.0, 21.0, 20.0, 19.0, 18.0, 17.0, 16.0, 15.0, 14.0, 13.0, 12.0, 11.0, 10.0, 9.0, 8.0, 7.0, 6.0, 5.0, 4.0, 3.0, 2.0, 1.0, -3.2978999614715576, -3.6617000102996826, -4.334400177001953, -4.427299976348877, -4.456600189208984, -4.543300151824951, -4.587699890136719, -4.66480016708374, -4.743299961090088, -4.759900093078613, -4.777100086212158, -4.793099880218506, -4.933700084686279, -4.960100173950195, -4.972899913787842, -5.130499839782715, -5.248600006103516, -5.285900115966797, -5.298999786376953, -5.29610013961792, -5.312099933624268, -5.371200084686279, -5.378300189971924, -5.406700134277344, -5.470300197601318, -5.494500160217285, -5.529600143432617, -5.652900218963623, -5.689499855041504, -5.773799896240234, -5.538000106811523, -5.501399993896484, -2.7483999729156494, -3.4354000091552734, -3.8701999187469482, -3.9351000785827637, -4.147500038146973, -4.39300012588501, -4.546500205993652, -4.686399936676025, -4.788400173187256, -4.876200199127197, -4.926499843597412, -4.9878997802734375, -5.094799995422363, -5.1305999755859375, -5.258500099182129, -5.282700061798096, -5.338200092315674, -5.348899841308594, -5.400300025939941, -5.514800071716309, -5.523900032043457, -5.517000198364258, -5.5725998878479, -4.773900032043457, -5.580399990081787, -5.585899829864502, -5.267099857330322, -5.60099983215332, -5.653600215911865, -5.623600006103516, -4.274899959564209, -3.7704999446868896, -2.649899959564209, -3.8582000732421875, -3.3894999027252197, -4.036900043487549, -4.205100059509277, -4.2494001388549805, -4.291200160980225, -4.319900035858154, -4.477099895477295, -4.717400074005127, -4.798799991607666, -5.064899921417236, -5.146999835968018, -5.16510009765625, -5.179900169372559, -5.183000087738037, -5.206600189208984, -5.254300117492676, -5.257800102233887, -5.38129997253418, -5.410699844360352, -5.441299915313721, -5.472899913787842, -5.416600227355957, -5.488999843597412, -5.514999866485596, -5.548600196838379, -5.553100109100342, -5.563000202178955, -5.490300178527832, -4.684700012207031, -3.9214999675750732, -4.021299839019775, -4.308199882507324, -4.5472002029418945, -4.670100212097168, -4.6940999031066895, -4.706299781799316, -4.880499839782715, -4.904699802398682, -3.7207000255584717, -5.045100212097168, -5.064000129699707, -5.090700149536133, -5.122900009155273, -5.143799781799316, -5.1296000480651855, -5.170499801635742, -5.187699794769287, -5.207699775695801, -5.272900104522705, -5.2845001220703125, -5.477499961853027, -5.497399806976318, -5.532599925994873, -5.638199806213379, -5.6992998123168945, -5.744500160217285, -5.763199806213379, -5.7967000007629395, -5.782299995422363, -5.787899971008301, -5.156599998474121, -3.3675999641418457, -3.5327000617980957, -3.9453001022338867, -4.230000019073486, -4.295000076293945, -4.3460001945495605, -4.348100185394287, -4.353400230407715, -4.456099987030029, -4.544300079345703, -4.555699825286865, -4.577300071716309, -4.746799945831299, -4.7667999267578125, -4.789599895477295, -4.970099925994873, -4.962500095367432, -5.043600082397461, -5.070000171661377, -5.048900127410889, -5.103099822998047, -5.136000156402588, -5.153299808502197, -5.156599998474121, -5.128699779510498, -5.240600109100342, -5.201300144195557, -5.274199962615967, -5.3125, -5.325099945068359, -5.25], \"loglift\": [30.0, 29.0, 28.0, 27.0, 26.0, 25.0, 24.0, 23.0, 22.0, 21.0, 20.0, 19.0, 18.0, 17.0, 16.0, 15.0, 14.0, 13.0, 12.0, 11.0, 10.0, 9.0, 8.0, 7.0, 6.0, 5.0, 4.0, 3.0, 2.0, 1.0, 1.4667999744415283, 1.4666999578475952, 1.4660999774932861, 1.4660999774932861, 1.465999960899353, 1.46589994430542, 1.4658000469207764, 1.4657000303268433, 1.4656000137329102, 1.4656000137329102, 1.4656000137329102, 1.465499997138977, 1.4652999639511108, 1.4651999473571777, 1.4651999473571777, 1.4648000001907349, 1.4645999670028687, 1.4644999504089355, 1.464400053024292, 1.464400053024292, 1.464400053024292, 1.4642000198364258, 1.4642000198364258, 1.4641000032424927, 1.4638999700546265, 1.4637000560760498, 1.4637000560760498, 1.4631999731063843, 1.4630999565124512, 1.4627000093460083, 1.4622999429702759, 1.3782000541687012, 1.507599949836731, 1.507599949836731, 1.5073000192642212, 1.5073000192642212, 1.507099986076355, 1.5068000555038452, 1.506600022315979, 1.5063999891281128, 1.5061999559402466, 1.506100058555603, 1.50600004196167, 1.5059000253677368, 1.5055999755859375, 1.5055999755859375, 1.5052000284194946, 1.5052000284194946, 1.5049999952316284, 1.5049999952316284, 1.504699945449829, 1.5044000148773193, 1.5044000148773193, 1.5044000148773193, 1.5041999816894531, 1.5041999816894531, 1.50409996509552, 1.50409996509552, 1.50409996509552, 1.503999948501587, 1.5038000345230103, 1.5038000345230103, 1.473099946975708, 0.9334999918937683, 1.662500023841858, 1.6619999408721924, 1.6619000434875488, 1.6618000268936157, 1.6617000102996826, 1.6615999937057495, 1.6615999937057495, 1.6614999771118164, 1.6612999439239502, 1.6608999967575073, 1.6606999635696411, 1.660099983215332, 1.6598999500274658, 1.6598000526428223, 1.6598000526428223, 1.6597000360488892, 1.6597000360488892, 1.659600019454956, 1.659500002861023, 1.65910005569458, 1.6589000225067139, 1.6588000059127808, 1.6586999893188477, 1.6586999893188477, 1.6585999727249146, 1.6584999561309814, 1.6584999561309814, 1.658400058746338, 1.658400058746338, 1.6583000421524048, 0.019300000742077827, 1.6746000051498413, 1.6744999885559082, 1.6742000579833984, 1.673799991607666, 1.6735999584197998, 1.6735999584197998, 1.6735999584197998, 1.673200011253357, 1.673200011253357, 1.6728999614715576, 1.6727999448776245, 1.672700047492981, 1.672700047492981, 1.6726000308990479, 1.6725000143051147, 1.6725000143051147, 1.6723999977111816, 1.6723999977111816, 1.6723999977111816, 1.6720999479293823, 1.6720999479293823, 1.6713999509811401, 1.6713000535964966, 1.6711000204086304, 1.6705000400543213, 1.670300006866455, 1.6699999570846558, 1.6698999404907227, 1.669800043106079, 1.669800043106079, 1.669600009918213, -0.45260000228881836, 1.7640999555587769, 1.7640000581741333, 1.7635999917984009, 1.7632999420166016, 1.7632999420166016, 1.763200044631958, 1.763200044631958, 1.763100028038025, 1.7630000114440918, 1.7628999948501587, 1.7627999782562256, 1.7627999782562256, 1.7625000476837158, 1.7624000310897827, 1.7624000310897827, 1.7619999647140503, 1.7619999647140503, 1.7617000341415405, 1.7616000175476074, 1.7616000175476074, 1.7615000009536743, 1.7615000009536743, 1.7613999843597412, 1.7613999843597412, 1.7613999843597412, 1.7611000537872314, 1.7611000537872314, 1.7610000371932983, 1.7608000040054321, 1.7608000040054321, 1.7608000040054321]}, \"token.table\": {\"Topic\": [1, 3, 3, 5, 4, 4, 2, 4, 5, 2, 1, 2, 4, 5, 2, 1, 2, 1, 5, 3, 4, 3, 5, 5, 5, 5, 4, 3, 2, 3, 4, 4, 1, 4, 2, 5, 1, 5, 5, 3, 2, 2, 1, 4, 5, 1, 1, 5, 1, 1, 4, 1, 3, 3, 4, 2, 5, 5, 2, 3, 1, 5, 1, 2, 3, 3, 2, 4, 5, 2, 4, 5, 1, 1, 1, 5, 3, 1, 2, 1, 5, 2, 1, 3, 5, 4, 2, 3, 2, 2, 4, 5, 1, 2, 3, 3, 1, 2, 3, 5, 4, 2, 1, 2, 3, 2, 4, 1, 3, 1, 4, 4, 3, 3, 4, 2, 3, 4, 5, 2, 1, 3, 1, 2, 4, 3, 5, 4, 3, 4, 1, 4, 4, 5, 1, 5, 1, 2, 3, 4, 3, 2, 1, 2, 3, 4, 5, 1, 5, 4, 5, 5, 5, 1, 2, 3, 4, 5, 4, 4, 2, 3, 2, 5, 4, 2, 3, 1, 2, 3], \"Freq\": [0.9977003931999207, 0.9996733069419861, 0.9939911365509033, 0.9988349676132202, 0.9976251125335693, 0.9988998770713806, 0.997195839881897, 0.9968182444572449, 0.9985989928245544, 0.9947026968002319, 0.9147750735282898, 0.023760391399264336, 0.05544091388583183, 0.003960065543651581, 0.9971550703048706, 0.9982830286026001, 0.9965986609458923, 0.9987170100212097, 0.9995141625404358, 0.9961385130882263, 0.9971712231636047, 0.9976395964622498, 0.9967125058174133, 0.9979694485664368, 0.9979588985443115, 0.9973960518836975, 0.9940381646156311, 0.9968340992927551, 0.9964609146118164, 0.9977983832359314, 0.9980180263519287, 0.997022807598114, 0.995746910572052, 0.9991956353187561, 0.9991148114204407, 0.9997831583023071, 0.9981833696365356, 0.9987251162528992, 0.9988796710968018, 0.9992876648902893, 0.9951644539833069, 0.9989112615585327, 0.9982715845108032, 0.9986628293991089, 0.9985963106155396, 0.999074399471283, 0.9958559274673462, 0.9957401752471924, 0.9983225464820862, 0.9980552196502686, 0.9952600598335266, 0.9985306262969971, 0.9981038570404053, 0.9971688389778137, 0.9917842149734497, 0.9988526701927185, 0.9976455569267273, 0.9977922439575195, 0.9983206987380981, 0.9968388676643372, 0.9990253448486328, 0.9988304376602173, 0.993696928024292, 0.997941792011261, 0.9995096921920776, 0.9957816004753113, 0.9997011423110962, 0.9977102875709534, 0.9986556768417358, 0.9983285665512085, 0.9988619089126587, 0.9977702498435974, 0.9983786344528198, 0.9991448521614075, 0.9980965256690979, 0.9983142018318176, 0.9934983849525452, 0.9965365529060364, 0.9996533989906311, 0.9953254461288452, 0.9977607131004333, 0.9970009326934814, 0.9983076453208923, 0.9989886283874512, 0.9963842034339905, 0.9981467127799988, 0.997037410736084, 0.9960665702819824, 0.9971029162406921, 0.9933435916900635, 0.9986474514007568, 0.9979981184005737, 0.9979248642921448, 0.9992203712463379, 0.9996570944786072, 0.9984009861946106, 0.9964063167572021, 0.9976797103881836, 0.9951058030128479, 0.9963634610176086, 0.9963520765304565, 0.9964173436164856, 0.9987128376960754, 0.0006363769643940032, 0.9991118311882019, 0.9943742156028748, 0.9974759817123413, 0.9969872236251831, 0.9973996877670288, 0.9981578588485718, 0.9976946115493774, 0.9967603087425232, 0.9973311424255371, 0.9952207803726196, 0.9966485500335693, 0.9980688095092773, 0.9943970441818237, 0.9974585175514221, 0.9990332126617432, 0.9970782995223999, 0.9982638955116272, 0.9949554204940796, 0.9984945058822632, 0.9970109462738037, 0.9951804876327515, 0.9963483214378357, 0.998482346534729, 0.9970267415046692, 0.9934094548225403, 0.9954884052276611, 0.9981927871704102, 0.9964858889579773, 0.9937943816184998, 0.9968488216400146, 0.9993407726287842, 0.9948821067810059, 0.9958696365356445, 0.0017918930388987064, 0.0008959465194493532, 0.9971884489059448, 0.9978792071342468, 0.9959555268287659, 0.0746351033449173, 0.5629104971885681, 0.19333188235759735, 0.11914639919996262, 0.05035621300339699, 0.9994372129440308, 0.9947454333305359, 0.9961846470832825, 0.9987273216247559, 0.996464729309082, 0.9977083206176758, 0.00510855857282877, 0.965517520904541, 0.008939976803958416, 0.015325675718486309, 0.0038314189296215773, 0.9994224905967712, 0.9993472099304199, 0.9948096871376038, 0.99339759349823, 0.9990325570106506, 0.9958094358444214, 0.9982990026473999, 0.9956923723220825, 0.9982402324676514, 0.9964075088500977, 0.9973970651626587, 0.9983413815498352], \"Term\": [\"agradecer\", \"agradecimentos\", \"agua\", \"album\", \"almoco\", \"amigos\", \"amor\", \"anual\", \"apresentacao\", \"arte\", \"arvores\", \"arvores\", \"arvores\", \"arvores\", \"assinado\", \"associacao\", \"aula\", \"autografada\", \"autografado\", \"autografados\", \"autor\", \"autora\", \"banda\", \"bebida\", \"bilhete\", \"bilhetes\", \"cabaz\", \"caderno\", \"cafe\", \"camisola\", \"caneca\", \"caneta\", \"carta\", \"cartaz\", \"casa\", \"cd\", \"certificado\", \"clube\", \"concerto\", \"convite\", \"coracao\", \"creditos\", \"criancas\", \"data\", \"dedicatoria\", \"desenho\", \"diploma\", \"divulgacao\", \"doacao\", \"donativo\", \"dvd\", \"edicao\", \"email\", \"equipamento\", \"escrito\", \"espaco\", \"espetaculo\", \"espetaculos\", \"estadia\", \"estreia\", \"evento\", \"eventos\", \"exclusiva\", \"exclusivo\", \"exemplar\", \"exemplares\", \"facebook\", \"familia\", \"festa\", \"festival\", \"filme\", \"fisico\", \"foto\", \"fotografia\", \"fotografias\", \"fotos\", \"futuro\", \"garrafa\", \"ginasio\", \"gratis\", \"gratuita\", \"gratuito\", \"grupo\", \"historia\", \"ilustracao\", \"imagem\", \"impresso\", \"inauguracao\", \"instagram\", \"instituicao\", \"jantar\", \"jogo\", \"kit\", \"lisboa\", \"livro\", \"livros\", \"logo\", \"logotipo\", \"loja\", \"marca\", \"marcador\", \"mencao\", \"mensagem\", \"mensalidade\", \"mensalidade\", \"missao\", \"mundo\", \"mural\", \"musica\", \"noite\", \"noites\", \"numero\", \"obra\", \"obtenha\", \"original\", \"pack\", \"papel\", \"parceiro\", \"participacao\", \"participantes\", \"passeio\", \"poemas\", \"porta_chaves\", \"porto\", \"portugues\", \"postais\", \"poster\", \"presente\", \"produto\", \"quadro\", \"queremos\", \"quinta\", \"realizado\", \"reconhecimento\", \"redes_sociais\", \"saco\", \"saco_pano\", \"seguro\", \"seguro\", \"seguro\", \"sessao\", \"shaker\", \"shaker_ginasio\", \"shaker_ginasio\", \"shaker_ginasio\", \"shaker_ginasio\", \"shaker_ginasio\", \"shirt\", \"shirts\", \"socio\", \"sorteio\", \"tamanho\", \"terra\", \"toalha\", \"toalha\", \"toalha\", \"toalha\", \"toalha\", \"tshirt\", \"vale\", \"vales\", \"venda\", \"video\", \"videos\", \"visita\", \"visita_guiada\", \"voucher\", \"vouchers\", \"website\", \"workshop\"]}, \"R\": 30, \"lambda.step\": 0.01, \"plot.opts\": {\"xlab\": \"PC1\", \"ylab\": \"PC2\"}, \"topic.order\": [3, 4, 5, 2, 1]};\n",
       "\n",
       "function LDAvis_load_lib(url, callback){\n",
       "  var s = document.createElement('script');\n",
       "  s.src = url;\n",
       "  s.async = true;\n",
       "  s.onreadystatechange = s.onload = callback;\n",
       "  s.onerror = function(){console.warn(\"failed to load library \" + url);};\n",
       "  document.getElementsByTagName(\"head\")[0].appendChild(s);\n",
       "}\n",
       "\n",
       "if(typeof(LDAvis) !== \"undefined\"){\n",
       "   // already loaded: just create the visualization\n",
       "   !function(LDAvis){\n",
       "       new LDAvis(\"#\" + \"ldavis_el426391402056682930322458813010\", ldavis_el426391402056682930322458813010_data);\n",
       "   }(LDAvis);\n",
       "}else if(typeof define === \"function\" && define.amd){\n",
       "   // require.js is available: use it to load d3/LDAvis\n",
       "   require.config({paths: {d3: \"https://cdnjs.cloudflare.com/ajax/libs/d3/3.5.5/d3.min\"}});\n",
       "   require([\"d3\"], function(d3){\n",
       "      window.d3 = d3;\n",
       "      LDAvis_load_lib(\"https://cdn.rawgit.com/bmabey/pyLDAvis/files/ldavis.v1.0.0.js\", function(){\n",
       "        new LDAvis(\"#\" + \"ldavis_el426391402056682930322458813010\", ldavis_el426391402056682930322458813010_data);\n",
       "      });\n",
       "    });\n",
       "}else{\n",
       "    // require.js not available: dynamically load d3 & LDAvis\n",
       "    LDAvis_load_lib(\"https://cdnjs.cloudflare.com/ajax/libs/d3/3.5.5/d3.min.js\", function(){\n",
       "         LDAvis_load_lib(\"https://cdn.rawgit.com/bmabey/pyLDAvis/files/ldavis.v1.0.0.js\", function(){\n",
       "                 new LDAvis(\"#\" + \"ldavis_el426391402056682930322458813010\", ldavis_el426391402056682930322458813010_data);\n",
       "            })\n",
       "         });\n",
       "}\n",
       "</script>"
      ],
      "text/plain": [
       "<IPython.core.display.HTML object>"
      ]
     },
     "execution_count": 9,
     "metadata": {},
     "output_type": "execute_result"
    }
   ],
   "source": [
    "n_components=5\n",
    "lda_file = \"{}lda-{}.sav\".format(settings.MODEL_PATH,n_components)\n",
    "dskc_clean.topic_modeling(df,\"title_description\", \n",
    "                          modify=False,\n",
    "                          force_train=True,\n",
    "                          n_components=n_components,\n",
    "                          search=True,\n",
    "                          visualize=True,\n",
    "                          path=lda_file,\n",
    "                          stop_words=get_stop_words())"
   ]
  },
  {
   "cell_type": "code",
   "execution_count": 29,
   "metadata": {},
   "outputs": [
    {
     "data": {
      "text/plain": [
       "Index(['DESCRIPTION_topic_1', 'DESCRIPTION_topic_2', 'DESCRIPTION_topic_3', 'DESCRIPTION_topic_4', 'DESCRIPTION_topic_5', 'DESCRIPTION_topic_6', 'DESCRIPTION_topic_7', 'DESCRIPTION_topic_8', 'DESCRIPTION_topic_9', 'DESCRIPTION_topic_10', 'PID', 'DESCRIPTION_prob_dominant_topic', 'DESCRIPTION_dominant_topic', 'AMOUNT', 'TITLE', 'DESCRIPTION'], dtype='object')"
      ]
     },
     "execution_count": 29,
     "metadata": {},
     "output_type": "execute_result"
    }
   ],
   "source": [
    "df.columns"
   ]
  },
  {
   "cell_type": "code",
   "execution_count": null,
   "metadata": {},
   "outputs": [],
   "source": []
  }
 ],
 "metadata": {
  "kernelspec": {
   "display_name": "Python 3",
   "language": "python",
   "name": "python3"
  },
  "language_info": {
   "codemirror_mode": {
    "name": "ipython",
    "version": 3
   },
   "file_extension": ".py",
   "mimetype": "text/x-python",
   "name": "python",
   "nbconvert_exporter": "python",
   "pygments_lexer": "ipython3",
   "version": "3.6.9"
  }
 },
 "nbformat": 4,
 "nbformat_minor": 4
}
