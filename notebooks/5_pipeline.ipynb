{
 "cells": [
  {
   "cell_type": "markdown",
   "metadata": {},
   "source": [
    "# PPL \n",
    "\n",
    "# Pipeline\n",
    "\n",
    "<br>\n",
    "<hr>\n",
    "\n",
    "<h1 style=\"color:red\"> Index</h1>\n",
    "\n",
    "<br>\n",
    "\n",
    "### 0. Setup\n",
    "\n",
    "### 1. Train\n",
    "\n",
    "### 2. Predict\n",
    "\n",
    "<hr>\n",
    "<br><br><br>"
   ]
  },
  {
   "cell_type": "markdown",
   "metadata": {},
   "source": [
    "# 0. Setup"
   ]
  },
  {
   "cell_type": "code",
   "execution_count": 1,
   "metadata": {},
   "outputs": [
    {
     "name": "stderr",
     "output_type": "stream",
     "text": [
      "Using TensorFlow backend.\n"
     ]
    },
    {
     "name": "stdout",
     "output_type": "stream",
     "text": [
      "Loaded normalization model: 6f513876098baed0894ef5183211c4eb\n",
      "Loaded lda model: 56ba759e86454bbee14d0a5821917958\n",
      "WARNING:tensorflow:From /home/miguel/.local/lib/python3.6/site-packages/keras/backend/tensorflow_backend.py:422: The name tf.global_variables is deprecated. Please use tf.compat.v1.global_variables instead.\n",
      "\n",
      "Loaded neural network model: a95e3e84aae9f1088b945c991d464ff8\n"
     ]
    }
   ],
   "source": [
    "# set root folder (needed for imports)\n",
    "import os\n",
    "while not os.getcwd().endswith(\"ppl-model\"):\n",
    "    os.chdir(\"..\")\n",
    "\n",
    "# detect changes on folders\n",
    "%load_ext autoreload\n",
    "%autoreload 2\n",
    "\n",
    "# ignore warning on jupyter\n",
    "import warnings\n",
    "warnings.filterwarnings('ignore')\n",
    "\n",
    "# my imports\n",
    "import settings\n",
    "from pipeline.pipeline import train, predict"
   ]
  },
  {
   "cell_type": "markdown",
   "metadata": {},
   "source": [
    "<br>\n",
    "\n",
    "# 1. Train"
   ]
  },
  {
   "cell_type": "code",
   "execution_count": 12,
   "metadata": {},
   "outputs": [
    {
     "name": "stdout",
     "output_type": "stream",
     "text": [
      "Calculating countries... done\n",
      "Calculating topics... saving model... done in 3s\n",
      "Train is a dataframe of: 2022 rows and 74 columns\n",
      "Test is a dataframe of: 506 rows and 74 columns\n",
      "Calculating user projects... done\n",
      "Merging rewards... done\n",
      "Merging pledges... done\n",
      "Filling days... done\n",
      "Calculating user projects... done\n",
      "Merging rewards... done\n",
      "Merging pledges... done\n",
      "Filling days... done\n",
      "Saving... done\n",
      "/home/ppl/Documents/dataset/processed/train.csv\n",
      "Train on 97828 samples, validate on 22859 samples\n",
      "Epoch 1/20\n",
      "97828/97828 [==============================] - 17s 173us/sample - loss: 0.2543 - acc: 0.5350 - val_loss: 0.2556 - val_acc: 0.5446\n",
      "Epoch 2/20\n",
      "97828/97828 [==============================] - 16s 163us/sample - loss: 0.2537 - acc: 0.5357 - val_loss: 0.2549 - val_acc: 0.5452\n",
      "Epoch 3/20\n",
      "97828/97828 [==============================] - 16s 160us/sample - loss: 0.2533 - acc: 0.5361 - val_loss: 0.2543 - val_acc: 0.5463\n",
      "Epoch 4/20\n",
      "97828/97828 [==============================] - 16s 161us/sample - loss: 0.2528 - acc: 0.5372 - val_loss: 0.2538 - val_acc: 0.5473\n",
      "Epoch 5/20\n",
      "97828/97828 [==============================] - 16s 167us/sample - loss: 0.2523 - acc: 0.5383 - val_loss: 0.2532 - val_acc: 0.5477\n",
      "Epoch 6/20\n",
      "97828/97828 [==============================] - 16s 167us/sample - loss: 0.2519 - acc: 0.5394 - val_loss: 0.2526 - val_acc: 0.5471\n",
      "Epoch 7/20\n",
      "97828/97828 [==============================] - 16s 165us/sample - loss: 0.2514 - acc: 0.5403 - val_loss: 0.2521 - val_acc: 0.5475\n",
      "Epoch 8/20\n",
      "97828/97828 [==============================] - 16s 164us/sample - loss: 0.2510 - acc: 0.5411 - val_loss: 0.2516 - val_acc: 0.5480\n",
      "Epoch 9/20\n",
      "97828/97828 [==============================] - 16s 166us/sample - loss: 0.2506 - acc: 0.5425 - val_loss: 0.2510 - val_acc: 0.5491\n",
      "Epoch 10/20\n",
      "97828/97828 [==============================] - 17s 178us/sample - loss: 0.2502 - acc: 0.5441 - val_loss: 0.2505 - val_acc: 0.5507\n",
      "Epoch 11/20\n",
      "97828/97828 [==============================] - 16s 167us/sample - loss: 0.2498 - acc: 0.5458 - val_loss: 0.2500 - val_acc: 0.5523\n",
      "Epoch 12/20\n",
      "97828/97828 [==============================] - 16s 165us/sample - loss: 0.2494 - acc: 0.5480 - val_loss: 0.2495 - val_acc: 0.5547\n",
      "Epoch 13/20\n",
      "97828/97828 [==============================] - 16s 164us/sample - loss: 0.2490 - acc: 0.5495 - val_loss: 0.2490 - val_acc: 0.5568\n",
      "Epoch 14/20\n",
      "97828/97828 [==============================] - 16s 167us/sample - loss: 0.2486 - acc: 0.5516 - val_loss: 0.2485 - val_acc: 0.5591\n",
      "Epoch 15/20\n",
      "97828/97828 [==============================] - 21s 214us/sample - loss: 0.2482 - acc: 0.5540 - val_loss: 0.2480 - val_acc: 0.5617\n",
      "Epoch 16/20\n",
      "97828/97828 [==============================] - 18s 179us/sample - loss: 0.2477 - acc: 0.5568 - val_loss: 0.2474 - val_acc: 0.5642\n",
      "Epoch 17/20\n",
      "97828/97828 [==============================] - 17s 178us/sample - loss: 0.2473 - acc: 0.5592 - val_loss: 0.2469 - val_acc: 0.5664\n",
      "Epoch 18/20\n",
      "97828/97828 [==============================] - 17s 179us/sample - loss: 0.2469 - acc: 0.5620 - val_loss: 0.2464 - val_acc: 0.5689\n",
      "Epoch 19/20\n",
      "97828/97828 [==============================] - 16s 168us/sample - loss: 0.2465 - acc: 0.5646 - val_loss: 0.2458 - val_acc: 0.5706\n",
      "Epoch 20/20\n",
      "97828/97828 [==============================] - 17s 172us/sample - loss: 0.2460 - acc: 0.5670 - val_loss: 0.2453 - val_acc: 0.5722\n",
      "Elapsed time: 5m 35s\n",
      "saving model... done\n",
      "Saved as /home/miguel/ppl-model/model/model.h5\n"
     ]
    }
   ],
   "source": [
    "train(settings.DATASET_PROJECTS_PATH,settings.DATASET_PLEDGES_PATH,settings.DATASET_REWARDS_PATH)"
   ]
  },
  {
   "cell_type": "markdown",
   "metadata": {},
   "source": [
    "<br>\n",
    "\n",
    "# 2. Predict"
   ]
  },
  {
   "cell_type": "code",
   "execution_count": 8,
   "metadata": {},
   "outputs": [
    {
     "name": "stdout",
     "output_type": "stream",
     "text": [
      "0 title_prj_summary_topic_1 0.13862193\n",
      "1 title_prj_summary_topic_2 0.19516136\n",
      "2 title_prj_summary_topic_3 0.15260527\n",
      "3 title_prj_summary_topic_4 0.14317533\n",
      "4 title_prj_summary_topic_5 0.17762713\n",
      "5 title_prj_summary_topic_6 0.19280896\n",
      "6 title_length 14\n",
      "7 channel 1\n",
      "8 start_month 4\n",
      "9 start_month_sin 0.8660254037844387\n",
      "10 start_month_cos -0.4999999999999998\n",
      "11 start_day 20\n",
      "12 start_day_sin -0.7907757369376986\n",
      "13 start_day_cos -0.6121059825476627\n",
      "14 start_weekday 0\n",
      "15 start_weekday_sin 0.0\n",
      "16 start_weekday_cos 1.0\n",
      "17 end_month 6\n",
      "18 end_month_sin 1.2246467991473532e-16\n",
      "19 end_month_cos -1.0\n",
      "20 end_day 20\n",
      "21 end_day_sin -0.7907757369376986\n",
      "22 end_day_cos -0.6121059825476627\n",
      "23 end_weekday 5\n",
      "24 days 61\n",
      "25 days_elapsed 30\n",
      "26 percentage_days_elapsed 0.4918032786885246\n",
      "27 end_weekday_sin -0.9749279121818236\n",
      "28 end_weekday_cos -0.2225209339563146\n",
      "29 target 3000\n",
      "30 raised 1500\n",
      "31 percentage_raised 0.5\n",
      "32 backers 3\n",
      "33 amount_self_funded 2\n",
      "34 percentage_target_self_funded 0.0006666666666666666\n",
      "35 comments 4\n",
      "36 images 3\n",
      "37 views 100\n",
      "38 facebook 0\n",
      "39 uncond_channel 0\n",
      "40 cat_agro-indústria 0\n",
      "41 cat_alimentação/bebidas 0\n",
      "42 cat_ambiente 1\n",
      "43 cat_artes_plásticas 0\n",
      "44 cat_cidadania_/_política 0\n",
      "45 cat_ciência/tecnologia 0\n",
      "46 cat_dança/cinema/teatro 0\n",
      "47 cat_desporto 0\n",
      "48 cat_educação 0\n",
      "49 cat_empreendedorismo 0\n",
      "50 cat_evento 0\n",
      "51 cat_jogos 0\n",
      "52 cat_livros/revistas 0\n",
      "53 cat_moda/design 0\n",
      "54 cat_música 0\n",
      "55 cat_outros 0\n",
      "56 cat_social 0\n",
      "57 cat_turismo/viagens 0\n",
      "58 cat_vídeo/fotografia 0\n",
      "59 cat_zoófila 0\n",
      "60 country_reduced_cabo_verde 0\n",
      "61 country_reduced_mozambique 0\n",
      "62 country_reduced_others 0\n",
      "63 country_reduced_portugal 1\n",
      "64 country_reduced_sao_tome_and_principe 0\n",
      "65 user_n_projects 2\n",
      "66 user_n_success_projects 1\n",
      "67 n_rewards 3\n",
      "68 reward_slot_1_amount 5\n",
      "69 reward_slot_2_amount 10\n",
      "70 reward_slot_3_amount 15\n",
      "71 reward_slot_4_amount 0\n",
      "72 reward_slot_5_amount 0\n",
      "73 reward_slot_6_amount 0\n",
      "0 title_prj_summary_topic_1 0.16651993393303774\n",
      "1 title_prj_summary_topic_2 0.2362518035439008\n",
      "2 title_prj_summary_topic_3 0.1866529624055131\n",
      "3 title_prj_summary_topic_4 0.18224988078677315\n",
      "4 title_prj_summary_topic_5 0.20535789964166298\n",
      "5 title_prj_summary_topic_6 0.21948152097159718\n",
      "6 title_length 0.09482758620689655\n",
      "7 channel 1.0\n",
      "8 start_month 0.2727272727272727\n",
      "9 start_month_sin 0.9330127018922194\n",
      "10 start_month_cos 0.2500000000000001\n",
      "11 start_day 0.6333333333333333\n",
      "12 start_day_sin 0.10410400185652458\n",
      "13 start_day_cos 0.19187389186646892\n",
      "14 start_weekday 0.0\n",
      "15 start_weekday_sin 0.5\n",
      "16 start_weekday_cos 1.0\n",
      "17 end_month 0.4545454545454545\n",
      "18 end_month_sin 0.5000000000000001\n",
      "19 end_month_cos 0.0\n",
      "20 end_day 0.6333333333333333\n",
      "21 end_day_sin 0.10410400185652458\n",
      "22 end_day_cos 0.19187389186646892\n",
      "23 end_weekday 0.8333333333333333\n",
      "24 days 0.07755102040816327\n",
      "25 days_elapsed 0.09114249037227214\n",
      "26 percentage_days_elapsed 0.6793695069500716\n",
      "27 end_weekday_sin 0.0\n",
      "28 end_weekday_cos 0.3568958678922094\n",
      "29 target 0.01777643868635131\n",
      "30 raised 0.036979513349604316\n",
      "31 percentage_raised 0.05528255528255528\n",
      "32 backers 0.0015965939329430547\n",
      "33 amount_self_funded 0.000315905860053704\n",
      "34 percentage_target_self_funded 0.0006666666666666666\n",
      "35 comments 0.07603778605641298\n",
      "36 images 0.30000000000000004\n",
      "37 views 0.02774759945579504\n",
      "38 facebook 0.0\n",
      "39 uncond_channel 0.0\n",
      "40 cat_agro-indústria 0.0\n",
      "41 cat_alimentação/bebidas 0.0\n",
      "42 cat_ambiente 1.0\n",
      "43 cat_artes_plásticas 0.0\n",
      "44 cat_cidadania_/_política 0.0\n",
      "45 cat_ciência/tecnologia 0.0\n",
      "46 cat_dança/cinema/teatro 0.0\n",
      "47 cat_desporto 0.0\n",
      "48 cat_educação 0.0\n",
      "49 cat_empreendedorismo 0.0\n",
      "50 cat_evento 0.0\n",
      "51 cat_jogos 0.0\n",
      "52 cat_livros/revistas 0.0\n",
      "53 cat_moda/design 0.0\n",
      "54 cat_música 0.0\n",
      "55 cat_outros 0.0\n",
      "56 cat_social 0.0\n",
      "57 cat_turismo/viagens 0.0\n",
      "58 cat_vídeo/fotografia 0.0\n",
      "59 cat_zoófila 0.0\n",
      "60 country_reduced_cabo_verde 0.0\n",
      "61 country_reduced_mozambique 0.0\n",
      "62 country_reduced_others 0.0\n",
      "63 country_reduced_portugal 1.0\n",
      "64 country_reduced_sao_tome_and_principe 0.0\n",
      "65 user_n_projects 0.045454545454545456\n",
      "66 user_n_success_projects 0.02631578947368421\n",
      "67 n_rewards 0.5\n",
      "68 reward_slot_1_amount 0.016666666666666666\n",
      "69 reward_slot_2_amount 0.01\n",
      "70 reward_slot_3_amount 0.006\n",
      "71 reward_slot_4_amount 0.0\n",
      "72 reward_slot_5_amount 0.0\n",
      "73 reward_slot_6_amount 0.0\n"
     ]
    },
    {
     "data": {
      "text/plain": [
       "'4.4'"
      ]
     },
     "execution_count": 8,
     "metadata": {},
     "output_type": "execute_result"
    }
   ],
   "source": [
    "from pipeline.util import get_fake_data\n",
    "data = get_fake_data()\n",
    "\n",
    "predict(data)"
   ]
  },
  {
   "cell_type": "markdown",
   "metadata": {},
   "source": [
    "<br>\n",
    "\n",
    "# 3. Clear Session"
   ]
  },
  {
   "cell_type": "code",
   "execution_count": 10,
   "metadata": {},
   "outputs": [
    {
     "name": "stderr",
     "output_type": "stream",
     "text": [
      "[autoreload of pipeline.util failed: Traceback (most recent call last):\n",
      "  File \"/home/miguel/.local/lib/python3.6/site-packages/IPython/extensions/autoreload.py\", line 245, in check\n",
      "    superreload(m, reload, self.old_objects)\n",
      "  File \"/home/miguel/.local/lib/python3.6/site-packages/IPython/extensions/autoreload.py\", line 394, in superreload\n",
      "    module = reload(module)\n",
      "  File \"/usr/lib/python3.6/imp.py\", line 315, in reload\n",
      "    return importlib.reload(module)\n",
      "  File \"/usr/lib/python3.6/importlib/__init__.py\", line 166, in reload\n",
      "    _bootstrap._exec(spec, module)\n",
      "  File \"<frozen importlib._bootstrap>\", line 618, in _exec\n",
      "  File \"<frozen importlib._bootstrap_external>\", line 674, in exec_module\n",
      "  File \"<frozen importlib._bootstrap_external>\", line 781, in get_code\n",
      "  File \"<frozen importlib._bootstrap_external>\", line 741, in source_to_code\n",
      "  File \"<frozen importlib._bootstrap>\", line 219, in _call_with_frames_removed\n",
      "  File \"/home/miguel/ppl-model/pipeline/util.py\", line 178\n",
      "    data = {x:data[x] for x in features]}\n",
      "                                       ^\n",
      "SyntaxError: invalid syntax\n",
      "]\n"
     ]
    },
    {
     "ename": "ModuleNotFoundError",
     "evalue": "No module named 'numba'",
     "output_type": "error",
     "traceback": [
      "\u001b[0;31m---------------------------------------------------------------------------\u001b[0m",
      "\u001b[0;31mModuleNotFoundError\u001b[0m                       Traceback (most recent call last)",
      "\u001b[0;32m<ipython-input-10-c3533136adac>\u001b[0m in \u001b[0;36m<module>\u001b[0;34m\u001b[0m\n\u001b[1;32m      2\u001b[0m \u001b[0mK\u001b[0m\u001b[0;34m.\u001b[0m\u001b[0mclear_session\u001b[0m\u001b[0;34m(\u001b[0m\u001b[0;34m)\u001b[0m\u001b[0;34m\u001b[0m\u001b[0;34m\u001b[0m\u001b[0m\n\u001b[1;32m      3\u001b[0m \u001b[0;34m\u001b[0m\u001b[0m\n\u001b[0;32m----> 4\u001b[0;31m \u001b[0;32mfrom\u001b[0m \u001b[0mnumba\u001b[0m \u001b[0;32mimport\u001b[0m \u001b[0mcuda\u001b[0m\u001b[0;34m\u001b[0m\u001b[0;34m\u001b[0m\u001b[0m\n\u001b[0m\u001b[1;32m      5\u001b[0m \u001b[0mcuda\u001b[0m\u001b[0;34m.\u001b[0m\u001b[0mselect_device\u001b[0m\u001b[0;34m(\u001b[0m\u001b[0;36m0\u001b[0m\u001b[0;34m)\u001b[0m\u001b[0;34m\u001b[0m\u001b[0;34m\u001b[0m\u001b[0m\n\u001b[1;32m      6\u001b[0m \u001b[0mcuda\u001b[0m\u001b[0;34m.\u001b[0m\u001b[0mclose\u001b[0m\u001b[0;34m(\u001b[0m\u001b[0;34m)\u001b[0m\u001b[0;34m\u001b[0m\u001b[0;34m\u001b[0m\u001b[0m\n",
      "\u001b[0;31mModuleNotFoundError\u001b[0m: No module named 'numba'"
     ]
    }
   ],
   "source": [
    "from keras import backend as K \n",
    "K.clear_session()\n",
    "\n",
    "from numba import cuda\n",
    "cuda.select_device(0)\n",
    "cuda.close()"
   ]
  }
 ],
 "metadata": {
  "kernelspec": {
   "display_name": "Python 3",
   "language": "python",
   "name": "python3"
  },
  "language_info": {
   "codemirror_mode": {
    "name": "ipython",
    "version": 3
   },
   "file_extension": ".py",
   "mimetype": "text/x-python",
   "name": "python",
   "nbconvert_exporter": "python",
   "pygments_lexer": "ipython3",
   "version": "3.6.9"
  }
 },
 "nbformat": 4,
 "nbformat_minor": 4
}
